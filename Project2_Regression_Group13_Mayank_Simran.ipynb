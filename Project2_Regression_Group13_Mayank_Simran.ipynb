{
 "cells": [
  {
   "cell_type": "markdown",
   "metadata": {},
   "source": [
    "# Linear Regression:\n",
    "\n",
    "Data Description- \n",
    "The dataset that we have picked is from Airbnb. The dataset contains details for over 3723 Airbnb listings in the US. We will be using this dataset and building a regression model that best predicts the price of these listings based on the various features/variables.\n",
    "\n",
    "We picked this dataset from kaggle. Please find the link to that for reference:\n",
    "https://www.kaggle.com/krisinbentley/airbnb/\n",
    "\n",
    "The dataset has about 92 columns, some of which are either redundant or not useful for predicting the price. Please find below the list of columns in the dataset:\n",
    "\n",
    "id, listing_url, scrape_id, last_scraped, name, summary, space, description, experiences_offered, neighborhood_overview,\tnotes, transit, thumbnail_url, medium_url, picture_url, xl_picture_url, host_id, host_url, host_name, host_since, host_location, host_about, host_response_time, host_response_rate, host_acceptance_rate, host_is_superhost, host_thumbnail_url, host_picture_url, host_neighbourhood, host_listings_count, host_total_listings_count, host_verifications, host_has_profile_pic, host_identity_verified, street, neighbourhood, neighbourhood_cleansed, neighbourhood_group_cleansed, city\tstate, zipcode, market, smart_location, country_code, country, latitude, longitude, is_location_exact, property_type, room_type, accommodates, bathrooms, bedrooms, beds, bed_type, amenities, square_feet, price, weekly_price, monthly_price, security_deposit, cleaning_fee, guests_included, extra_people, minimum_nights, maximum_nights, calendar_updated, has_availability, availability_30, availability_60, availability_90, availability_365, calendar_last_scraped, number_of_reviews, first_review, last_review, review_scores_rating, review_scores_accuracy, review_scores_cleanliness, review_scores_checkin, review_scores_communication, review_scores_location, review_scores_value, requires_license, license, jurisdiction_names, instant_bookable, cancellation_policy, require_guest_profile_picture, require_guest_phone_verification, calculated_host_listings_count, reviews_per_month\n"
   ]
  },
  {
   "cell_type": "markdown",
   "metadata": {},
   "source": [
    "# Initial Data Cleaning:\n",
    "\n",
    "To begin with, we will first remove all the columns that we can see as being not useful in our prediction. \n",
    "We will remove the following columns:\n",
    "\n",
    "id, listing_url, scrape_id, last_scraped, name, summary, space, description, experiences_offered, neighborhood_overview, notes, thumbnail_url, medium_url, picture_url, xl_picture_url, host_id, host_url, host_name, host_since, host_location, host_about, host_thumbnail_url, host_picture_url, host_neighbourhood, host_listings_count, host_total_listings_count, host_verifications, host_has_profile_pic, host_identity_verified, requires_license, license, jurisdiction_names, require_guest_profile_picture, require_guest_phone_verification, calculated_host_listings_count"
   ]
  },
  {
   "cell_type": "code",
   "execution_count": 1,
   "metadata": {},
   "outputs": [],
   "source": [
    "import pandas as pd\n",
    "import os\n",
    "import numpy as np\n",
    "import matplotlib.pyplot as plt\n",
    "%matplotlib inline\n",
    "from pandas.plotting import scatter_matrix\n",
    "import seaborn as sns\n",
    "sns.set(rc={'figure.figsize':(20,12)})"
   ]
  },
  {
   "cell_type": "code",
   "execution_count": 2,
   "metadata": {},
   "outputs": [
    {
     "data": {
      "text/html": [
       "<div>\n",
       "<style scoped>\n",
       "    .dataframe tbody tr th:only-of-type {\n",
       "        vertical-align: middle;\n",
       "    }\n",
       "\n",
       "    .dataframe tbody tr th {\n",
       "        vertical-align: top;\n",
       "    }\n",
       "\n",
       "    .dataframe thead th {\n",
       "        text-align: right;\n",
       "    }\n",
       "</style>\n",
       "<table border=\"1\" class=\"dataframe\">\n",
       "  <thead>\n",
       "    <tr style=\"text-align: right;\">\n",
       "      <th></th>\n",
       "      <th>transit</th>\n",
       "      <th>host_response_time</th>\n",
       "      <th>host_response_rate</th>\n",
       "      <th>host_acceptance_rate</th>\n",
       "      <th>host_is_superhost</th>\n",
       "      <th>street</th>\n",
       "      <th>neighbourhood</th>\n",
       "      <th>neighbourhood_cleansed</th>\n",
       "      <th>neighbourhood_group_cleansed</th>\n",
       "      <th>city</th>\n",
       "      <th>...</th>\n",
       "      <th>review_scores_rating</th>\n",
       "      <th>review_scores_accuracy</th>\n",
       "      <th>review_scores_cleanliness</th>\n",
       "      <th>review_scores_checkin</th>\n",
       "      <th>review_scores_communication</th>\n",
       "      <th>review_scores_location</th>\n",
       "      <th>review_scores_value</th>\n",
       "      <th>instant_bookable</th>\n",
       "      <th>cancellation_policy</th>\n",
       "      <th>reviews_per_month</th>\n",
       "    </tr>\n",
       "  </thead>\n",
       "  <tbody>\n",
       "    <tr>\n",
       "      <th>0</th>\n",
       "      <td>NaN</td>\n",
       "      <td>within a few hours</td>\n",
       "      <td>0.92</td>\n",
       "      <td>0.91</td>\n",
       "      <td>f</td>\n",
       "      <td>3rd Street Southeast, Washington, DC 20003, Un...</td>\n",
       "      <td>Capitol Hill</td>\n",
       "      <td>Capitol Hill, Lincoln Park</td>\n",
       "      <td>NaN</td>\n",
       "      <td>Washington</td>\n",
       "      <td>...</td>\n",
       "      <td>NaN</td>\n",
       "      <td>NaN</td>\n",
       "      <td>NaN</td>\n",
       "      <td>NaN</td>\n",
       "      <td>NaN</td>\n",
       "      <td>NaN</td>\n",
       "      <td>NaN</td>\n",
       "      <td>f</td>\n",
       "      <td>flexible</td>\n",
       "      <td>NaN</td>\n",
       "    </tr>\n",
       "    <tr>\n",
       "      <th>1</th>\n",
       "      <td>NaN</td>\n",
       "      <td>within a day</td>\n",
       "      <td>0.90</td>\n",
       "      <td>1.00</td>\n",
       "      <td>f</td>\n",
       "      <td>11th Street Southeast, Washington, DC 20003, U...</td>\n",
       "      <td>Capitol Hill</td>\n",
       "      <td>Capitol Hill, Lincoln Park</td>\n",
       "      <td>NaN</td>\n",
       "      <td>Washington</td>\n",
       "      <td>...</td>\n",
       "      <td>94.0</td>\n",
       "      <td>10.0</td>\n",
       "      <td>9.0</td>\n",
       "      <td>10.0</td>\n",
       "      <td>10.0</td>\n",
       "      <td>9.0</td>\n",
       "      <td>9.0</td>\n",
       "      <td>f</td>\n",
       "      <td>strict</td>\n",
       "      <td>2.11</td>\n",
       "    </tr>\n",
       "    <tr>\n",
       "      <th>2</th>\n",
       "      <td>NaN</td>\n",
       "      <td>within a day</td>\n",
       "      <td>0.90</td>\n",
       "      <td>1.00</td>\n",
       "      <td>f</td>\n",
       "      <td>14th Place, Hyattsville, MD 20782, United States</td>\n",
       "      <td>Chillum, MD</td>\n",
       "      <td>Lamont Riggs, Queens Chapel, Fort Totten, Plea...</td>\n",
       "      <td>NaN</td>\n",
       "      <td>Hyattsville</td>\n",
       "      <td>...</td>\n",
       "      <td>NaN</td>\n",
       "      <td>NaN</td>\n",
       "      <td>NaN</td>\n",
       "      <td>NaN</td>\n",
       "      <td>NaN</td>\n",
       "      <td>NaN</td>\n",
       "      <td>NaN</td>\n",
       "      <td>f</td>\n",
       "      <td>flexible</td>\n",
       "      <td>1.00</td>\n",
       "    </tr>\n",
       "    <tr>\n",
       "      <th>3</th>\n",
       "      <td>NaN</td>\n",
       "      <td>within an hour</td>\n",
       "      <td>1.00</td>\n",
       "      <td>NaN</td>\n",
       "      <td>f</td>\n",
       "      <td>O St, Washington, DC 20024, United States</td>\n",
       "      <td>NaN</td>\n",
       "      <td>Southwest Employment Area, Southwest/Waterfron...</td>\n",
       "      <td>NaN</td>\n",
       "      <td>Washington</td>\n",
       "      <td>...</td>\n",
       "      <td>NaN</td>\n",
       "      <td>NaN</td>\n",
       "      <td>NaN</td>\n",
       "      <td>NaN</td>\n",
       "      <td>NaN</td>\n",
       "      <td>NaN</td>\n",
       "      <td>NaN</td>\n",
       "      <td>f</td>\n",
       "      <td>flexible</td>\n",
       "      <td>NaN</td>\n",
       "    </tr>\n",
       "    <tr>\n",
       "      <th>4</th>\n",
       "      <td>You can walk to the bus stop (1 min) Subway AN...</td>\n",
       "      <td>within a few hours</td>\n",
       "      <td>0.92</td>\n",
       "      <td>0.67</td>\n",
       "      <td>f</td>\n",
       "      <td>East-West Highway, Silver Spring, MD 20910, Un...</td>\n",
       "      <td>Silver Spring, MD</td>\n",
       "      <td>Colonial Village, Shepherd Park, North Portal ...</td>\n",
       "      <td>NaN</td>\n",
       "      <td>Silver Spring</td>\n",
       "      <td>...</td>\n",
       "      <td>NaN</td>\n",
       "      <td>NaN</td>\n",
       "      <td>NaN</td>\n",
       "      <td>NaN</td>\n",
       "      <td>NaN</td>\n",
       "      <td>NaN</td>\n",
       "      <td>NaN</td>\n",
       "      <td>f</td>\n",
       "      <td>flexible</td>\n",
       "      <td>NaN</td>\n",
       "    </tr>\n",
       "  </tbody>\n",
       "</table>\n",
       "<p>5 rows × 79 columns</p>\n",
       "</div>"
      ],
      "text/plain": [
       "                                             transit  host_response_time  \\\n",
       "0                                                NaN  within a few hours   \n",
       "1                                                NaN        within a day   \n",
       "2                                                NaN        within a day   \n",
       "3                                                NaN      within an hour   \n",
       "4  You can walk to the bus stop (1 min) Subway AN...  within a few hours   \n",
       "\n",
       "   host_response_rate  host_acceptance_rate host_is_superhost  \\\n",
       "0                0.92                  0.91                 f   \n",
       "1                0.90                  1.00                 f   \n",
       "2                0.90                  1.00                 f   \n",
       "3                1.00                   NaN                 f   \n",
       "4                0.92                  0.67                 f   \n",
       "\n",
       "                                              street      neighbourhood  \\\n",
       "0  3rd Street Southeast, Washington, DC 20003, Un...       Capitol Hill   \n",
       "1  11th Street Southeast, Washington, DC 20003, U...       Capitol Hill   \n",
       "2   14th Place, Hyattsville, MD 20782, United States        Chillum, MD   \n",
       "3          O St, Washington, DC 20024, United States                NaN   \n",
       "4  East-West Highway, Silver Spring, MD 20910, Un...  Silver Spring, MD   \n",
       "\n",
       "                              neighbourhood_cleansed  \\\n",
       "0                         Capitol Hill, Lincoln Park   \n",
       "1                         Capitol Hill, Lincoln Park   \n",
       "2  Lamont Riggs, Queens Chapel, Fort Totten, Plea...   \n",
       "3  Southwest Employment Area, Southwest/Waterfron...   \n",
       "4  Colonial Village, Shepherd Park, North Portal ...   \n",
       "\n",
       "   neighbourhood_group_cleansed           city  ... review_scores_rating  \\\n",
       "0                           NaN     Washington  ...                  NaN   \n",
       "1                           NaN     Washington  ...                 94.0   \n",
       "2                           NaN    Hyattsville  ...                  NaN   \n",
       "3                           NaN     Washington  ...                  NaN   \n",
       "4                           NaN  Silver Spring  ...                  NaN   \n",
       "\n",
       "  review_scores_accuracy review_scores_cleanliness review_scores_checkin  \\\n",
       "0                    NaN                       NaN                   NaN   \n",
       "1                   10.0                       9.0                  10.0   \n",
       "2                    NaN                       NaN                   NaN   \n",
       "3                    NaN                       NaN                   NaN   \n",
       "4                    NaN                       NaN                   NaN   \n",
       "\n",
       "  review_scores_communication review_scores_location  review_scores_value  \\\n",
       "0                         NaN                    NaN                  NaN   \n",
       "1                        10.0                    9.0                  9.0   \n",
       "2                         NaN                    NaN                  NaN   \n",
       "3                         NaN                    NaN                  NaN   \n",
       "4                         NaN                    NaN                  NaN   \n",
       "\n",
       "   instant_bookable cancellation_policy reviews_per_month  \n",
       "0                 f            flexible               NaN  \n",
       "1                 f              strict              2.11  \n",
       "2                 f            flexible              1.00  \n",
       "3                 f            flexible               NaN  \n",
       "4                 f            flexible               NaN  \n",
       "\n",
       "[5 rows x 79 columns]"
      ]
     },
     "execution_count": 2,
     "metadata": {},
     "output_type": "execute_result"
    }
   ],
   "source": [
    "#Read the csv file\n",
    "df= pd.read_csv(os.path.expanduser(\"~/Downloads/airbnb.csv\")) \n",
    "\n",
    "#Drop the columns that we are sure will not be of any use in the model\n",
    "df = df.drop(columns= ['id', 'listing_url', 'scrape_id', 'last_scraped', 'name', 'summary', 'space', 'description', 'experiences_offered', 'neighborhood_overview', 'notes', 'thumbnail_url', 'medium_url', 'picture_url','xl_picture_url', 'host_id', 'host_url', 'host_name', 'host_since', 'host_location', 'host_about', 'host_thumbnail_url', 'host_picture_url', 'host_neighbourhood', 'host_listings_count', 'host_total_listings_count', 'host_verifications', 'host_has_profile_pic', 'host_identity_verified', 'requires_license', 'license', 'jurisdiction_names', 'require_guest_profile_picture', 'require_guest_phone_verification','calculated_host_listings_count'])\n",
    "df.head()"
   ]
  },
  {
   "cell_type": "markdown",
   "metadata": {},
   "source": [
    "# Removing Redundant Columns\n",
    "\n",
    "Now, after removing the unnecessary columns for prediction, we look for redundant columns (that describe same/similar features) and try to eliminate them to increase our prediction accuracy.\n",
    "\n",
    "Following is the list of columns we find redundant/repetitive:\n",
    "\n",
    "transit, host_acceptance_rate, host_is_superhost, street, neighbourhood, neighbourhood_cleansed, neighbourhood_group_cleansed, state, zipcode, market, smart_location, country_code, country, latitude, longitude, is_location_exact, weekly_price, monthly_price, security_deposit, cleaning_fee,  calendar_updated, has_availability, availability_30, availability_60, availability_90, availability_365, square_feet, calendar_last_scraped,  first_review, last_review, review_scores_accuracy, review_scores_cleanliness, review_scores_checkin, review_scores_communication, review_scores_location, review_scores_value,  instant_bookable, reviews_per_month\n"
   ]
  },
  {
   "cell_type": "code",
   "execution_count": 3,
   "metadata": {},
   "outputs": [
    {
     "data": {
      "text/html": [
       "<div>\n",
       "<style scoped>\n",
       "    .dataframe tbody tr th:only-of-type {\n",
       "        vertical-align: middle;\n",
       "    }\n",
       "\n",
       "    .dataframe tbody tr th {\n",
       "        vertical-align: top;\n",
       "    }\n",
       "\n",
       "    .dataframe thead th {\n",
       "        text-align: right;\n",
       "    }\n",
       "</style>\n",
       "<table border=\"1\" class=\"dataframe\">\n",
       "  <thead>\n",
       "    <tr style=\"text-align: right;\">\n",
       "      <th></th>\n",
       "      <th>host_response_time</th>\n",
       "      <th>host_response_rate</th>\n",
       "      <th>city</th>\n",
       "      <th>property_type</th>\n",
       "      <th>room_type</th>\n",
       "      <th>accommodates</th>\n",
       "      <th>bathrooms</th>\n",
       "      <th>bedrooms</th>\n",
       "      <th>beds</th>\n",
       "      <th>bed_type</th>\n",
       "      <th>...</th>\n",
       "      <th>Breakfast</th>\n",
       "      <th>Smoking Allowed</th>\n",
       "      <th>Buzzer/Wireless Intercom</th>\n",
       "      <th>Price</th>\n",
       "      <th>guests_included</th>\n",
       "      <th>minimum_nights</th>\n",
       "      <th>maximum_nights</th>\n",
       "      <th>number_of_reviews</th>\n",
       "      <th>review_scores_rating</th>\n",
       "      <th>cancellation_policy</th>\n",
       "    </tr>\n",
       "  </thead>\n",
       "  <tbody>\n",
       "    <tr>\n",
       "      <th>0</th>\n",
       "      <td>within a few hours</td>\n",
       "      <td>0.92</td>\n",
       "      <td>Washington</td>\n",
       "      <td>House</td>\n",
       "      <td>Entire home/apt</td>\n",
       "      <td>4</td>\n",
       "      <td>1.0</td>\n",
       "      <td>1.0</td>\n",
       "      <td>2.0</td>\n",
       "      <td>Real Bed</td>\n",
       "      <td>...</td>\n",
       "      <td>False</td>\n",
       "      <td>False</td>\n",
       "      <td>False</td>\n",
       "      <td>160</td>\n",
       "      <td>1</td>\n",
       "      <td>1</td>\n",
       "      <td>1125</td>\n",
       "      <td>0</td>\n",
       "      <td>NaN</td>\n",
       "      <td>flexible</td>\n",
       "    </tr>\n",
       "    <tr>\n",
       "      <th>1</th>\n",
       "      <td>within a day</td>\n",
       "      <td>0.90</td>\n",
       "      <td>Washington</td>\n",
       "      <td>House</td>\n",
       "      <td>Entire home/apt</td>\n",
       "      <td>6</td>\n",
       "      <td>3.0</td>\n",
       "      <td>3.0</td>\n",
       "      <td>3.0</td>\n",
       "      <td>Real Bed</td>\n",
       "      <td>...</td>\n",
       "      <td>False</td>\n",
       "      <td>False</td>\n",
       "      <td>False</td>\n",
       "      <td>350</td>\n",
       "      <td>1</td>\n",
       "      <td>2</td>\n",
       "      <td>30</td>\n",
       "      <td>65</td>\n",
       "      <td>94.0</td>\n",
       "      <td>strict</td>\n",
       "    </tr>\n",
       "    <tr>\n",
       "      <th>2</th>\n",
       "      <td>within a day</td>\n",
       "      <td>0.90</td>\n",
       "      <td>Hyattsville</td>\n",
       "      <td>House</td>\n",
       "      <td>Private room</td>\n",
       "      <td>1</td>\n",
       "      <td>2.0</td>\n",
       "      <td>1.0</td>\n",
       "      <td>1.0</td>\n",
       "      <td>Real Bed</td>\n",
       "      <td>...</td>\n",
       "      <td>False</td>\n",
       "      <td>False</td>\n",
       "      <td>False</td>\n",
       "      <td>50</td>\n",
       "      <td>1</td>\n",
       "      <td>2</td>\n",
       "      <td>1125</td>\n",
       "      <td>1</td>\n",
       "      <td>NaN</td>\n",
       "      <td>flexible</td>\n",
       "    </tr>\n",
       "    <tr>\n",
       "      <th>3</th>\n",
       "      <td>within an hour</td>\n",
       "      <td>1.00</td>\n",
       "      <td>Washington</td>\n",
       "      <td>House</td>\n",
       "      <td>Private room</td>\n",
       "      <td>2</td>\n",
       "      <td>1.0</td>\n",
       "      <td>1.0</td>\n",
       "      <td>1.0</td>\n",
       "      <td>Real Bed</td>\n",
       "      <td>...</td>\n",
       "      <td>True</td>\n",
       "      <td>False</td>\n",
       "      <td>False</td>\n",
       "      <td>95</td>\n",
       "      <td>1</td>\n",
       "      <td>1</td>\n",
       "      <td>1125</td>\n",
       "      <td>0</td>\n",
       "      <td>NaN</td>\n",
       "      <td>flexible</td>\n",
       "    </tr>\n",
       "    <tr>\n",
       "      <th>4</th>\n",
       "      <td>within a few hours</td>\n",
       "      <td>0.92</td>\n",
       "      <td>Silver Spring</td>\n",
       "      <td>Townhouse</td>\n",
       "      <td>Entire home/apt</td>\n",
       "      <td>4</td>\n",
       "      <td>1.0</td>\n",
       "      <td>1.0</td>\n",
       "      <td>1.0</td>\n",
       "      <td>Real Bed</td>\n",
       "      <td>...</td>\n",
       "      <td>False</td>\n",
       "      <td>False</td>\n",
       "      <td>False</td>\n",
       "      <td>50</td>\n",
       "      <td>2</td>\n",
       "      <td>7</td>\n",
       "      <td>1125</td>\n",
       "      <td>0</td>\n",
       "      <td>NaN</td>\n",
       "      <td>flexible</td>\n",
       "    </tr>\n",
       "  </tbody>\n",
       "</table>\n",
       "<p>5 rows × 38 columns</p>\n",
       "</div>"
      ],
      "text/plain": [
       "   host_response_time  host_response_rate           city property_type  \\\n",
       "0  within a few hours                0.92     Washington         House   \n",
       "1        within a day                0.90     Washington         House   \n",
       "2        within a day                0.90    Hyattsville         House   \n",
       "3      within an hour                1.00     Washington         House   \n",
       "4  within a few hours                0.92  Silver Spring     Townhouse   \n",
       "\n",
       "         room_type  accommodates  bathrooms  bedrooms  beds  bed_type  ...  \\\n",
       "0  Entire home/apt             4        1.0       1.0   2.0  Real Bed  ...   \n",
       "1  Entire home/apt             6        3.0       3.0   3.0  Real Bed  ...   \n",
       "2     Private room             1        2.0       1.0   1.0  Real Bed  ...   \n",
       "3     Private room             2        1.0       1.0   1.0  Real Bed  ...   \n",
       "4  Entire home/apt             4        1.0       1.0   1.0  Real Bed  ...   \n",
       "\n",
       "   Breakfast  Smoking Allowed  Buzzer/Wireless Intercom  Price  \\\n",
       "0      False            False                     False    160   \n",
       "1      False            False                     False    350   \n",
       "2      False            False                     False     50   \n",
       "3       True            False                     False     95   \n",
       "4      False            False                     False     50   \n",
       "\n",
       "   guests_included  minimum_nights  maximum_nights  number_of_reviews  \\\n",
       "0                1               1            1125                  0   \n",
       "1                1               2              30                 65   \n",
       "2                1               2            1125                  1   \n",
       "3                1               1            1125                  0   \n",
       "4                2               7            1125                  0   \n",
       "\n",
       "   review_scores_rating  cancellation_policy  \n",
       "0                   NaN             flexible  \n",
       "1                  94.0               strict  \n",
       "2                   NaN             flexible  \n",
       "3                   NaN             flexible  \n",
       "4                   NaN             flexible  \n",
       "\n",
       "[5 rows x 38 columns]"
      ]
     },
     "execution_count": 3,
     "metadata": {},
     "output_type": "execute_result"
    }
   ],
   "source": [
    "#Remove redundant columns\n",
    "df = df.drop(columns= ['transit','host_acceptance_rate', 'host_is_superhost', 'street', 'neighbourhood', 'neighbourhood_cleansed', 'neighbourhood_group_cleansed', 'state', 'zipcode', 'market', 'smart_location', 'country_code', 'country', 'latitude', 'longitude', 'is_location_exact','amenities', 'price', 'weekly_price', 'monthly_price', 'security_deposit', 'extra_people', 'cleaning_fee',  'calendar_updated', 'has_availability', 'availability_30', 'availability_60', 'availability_90', 'availability_365', 'square_feet', 'calendar_last_scraped',  'first_review', 'last_review', 'review_scores_accuracy', 'review_scores_cleanliness', 'review_scores_checkin', 'review_scores_communication', 'review_scores_location', 'review_scores_value', 'instant_bookable','reviews_per_month'])\n",
    "df.head()"
   ]
  },
  {
   "cell_type": "markdown",
   "metadata": {},
   "source": [
    "# Selected Variables\n",
    "\n",
    "For the linear regression model that we are building, 'Price' is our dependent variable.\n",
    "\n",
    "Following are the list of independent variables.\n",
    "\n",
    "host_response_time, host_response_rate, city, property_type, room_type, accommodates, bathrooms, bedrooms, beds, bed_type, Kitchen, TV, Wireless Internet, Air Conditioning, Heating, Family/Kid Friendly, Washer, Dryer, Smoke Detector, First Aid Kit, Safety Card, Fire Extinguisher, Essentials, Shampoo, Parking, Pets, Indoor Fireplace, Carbon Monoxide Detector, Breakfast, Smoking Allowed, Buzzer/Wireless Intercom, guests_included, minimum_nights, maximum_nights, number_of_reviews, review_scores_rating, cancellation_policy"
   ]
  },
  {
   "cell_type": "code",
   "execution_count": 4,
   "metadata": {},
   "outputs": [
    {
     "data": {
      "text/plain": [
       "Index(['host_response_time', 'host_response_rate', 'city', 'property_type',\n",
       "       'room_type', 'accommodates', 'bathrooms', 'bedrooms', 'beds',\n",
       "       'bed_type', 'Kitchen', 'TV', 'Wireless Internet', 'Air Conditioning',\n",
       "       'Heating', 'Family/Kid Friendly', 'Washer', 'Dryer', 'Smoke Detector',\n",
       "       'First Aid Kit', 'Safety Card', 'Fire Extinguisher', 'Essentials',\n",
       "       'Shampoo', 'Parking ', 'Pets', 'Indoor Fireplace',\n",
       "       'Carbon Monoxide Detector', 'Breakfast', 'Smoking Allowed',\n",
       "       'Buzzer/Wireless Intercom', 'Price', 'guests_included',\n",
       "       'minimum_nights', 'maximum_nights', 'number_of_reviews',\n",
       "       'review_scores_rating', 'cancellation_policy'],\n",
       "      dtype='object')"
      ]
     },
     "execution_count": 4,
     "metadata": {},
     "output_type": "execute_result"
    }
   ],
   "source": [
    "#List down all the columns\n",
    "df.columns"
   ]
  },
  {
   "cell_type": "markdown",
   "metadata": {},
   "source": [
    "# Exploratory Data Analysis\n",
    "\n",
    "Plotting some visualizations to better understand the variables in our model and to also understand the variability between them.\n",
    "First, we perform correlation to understand the dependency between each of these variables.\n",
    "From the plot below, we can see that Price is highly correlated to beds, bedrooms, accommodates, bathrooms & guests included."
   ]
  },
  {
   "cell_type": "code",
   "execution_count": 5,
   "metadata": {},
   "outputs": [
    {
     "name": "stdout",
     "output_type": "stream",
     "text": [
      "number_of_reviews          -0.084339\n",
      "Smoke Detector             -0.076801\n",
      "Pets                       -0.034881\n",
      "Essentials                 -0.031995\n",
      "host_response_rate         -0.028140\n",
      "First Aid Kit              -0.022155\n",
      "Breakfast                  -0.015742\n",
      "Safety Card                -0.011072\n",
      "Wireless Internet          -0.010852\n",
      "Smoking Allowed            -0.009512\n",
      "Heating                    -0.008235\n",
      "Shampoo                    -0.003903\n",
      "Carbon Monoxide Detector   -0.002285\n",
      "Fire Extinguisher           0.000456\n",
      "Buzzer/Wireless Intercom    0.009415\n",
      "Air Conditioning            0.011326\n",
      "minimum_nights              0.014055\n",
      "maximum_nights              0.014744\n",
      "Kitchen                     0.026549\n",
      "Parking                     0.034325\n",
      "review_scores_rating        0.050812\n",
      "Dryer                       0.077383\n",
      "Washer                      0.080124\n",
      "TV                          0.106650\n",
      "Indoor Fireplace            0.109555\n",
      "Family/Kid Friendly         0.171228\n",
      "guests_included             0.302968\n",
      "beds                        0.463642\n",
      "bathrooms                   0.495966\n",
      "accommodates                0.503120\n",
      "bedrooms                    0.521759\n",
      "Price                       1.000000\n",
      "Name: Price, dtype: float64\n"
     ]
    }
   ],
   "source": [
    "# Find all correlations and sort \n",
    "correlations_data = df.corr()['Price'].sort_values()\n",
    "\n",
    "# Print the most negative correlations\n",
    "print(correlations_data)"
   ]
  },
  {
   "cell_type": "code",
   "execution_count": 6,
   "metadata": {
    "scrolled": false
   },
   "outputs": [
    {
     "data": {
      "text/plain": [
       "<matplotlib.axes._subplots.AxesSubplot at 0x1a1fda3ac8>"
      ]
     },
     "execution_count": 6,
     "metadata": {},
     "output_type": "execute_result"
    },
    {
     "data": {
      "image/png": "[encoded data removed]",
      "text/plain": [
       "<Figure size 1656x1656 with 2 Axes>"
      ]
     },
     "metadata": {
      "needs_background": "light"
     },
     "output_type": "display_data"
    }
   ],
   "source": [
    "#we have plot a heat map to understand how each feature correlates to the other (Do they go hand in hand or are they inversely propotional)\n",
    "f= plt.subplots(figsize=(23,23))\n",
    "sns.heatmap(df.corr(),annot=True,fmt='.1f',color='green')  #We can use a simple seaborn method to draw the heatmaps"
   ]
  },
  {
   "cell_type": "markdown",
   "metadata": {},
   "source": [
    "Now, we will check how price varies with the variables that show the highest correlation with it."
   ]
  },
  {
   "cell_type": "code",
   "execution_count": 7,
   "metadata": {},
   "outputs": [
    {
     "data": {
      "text/plain": [
       "<seaborn.axisgrid.JointGrid at 0x1a2379cc18>"
      ]
     },
     "execution_count": 7,
     "metadata": {},
     "output_type": "execute_result"
    },
    {
     "data": {
      "image/png": "[encoded data removed]",
      "text/plain": [
       "<Figure size 432x432 with 3 Axes>"
      ]
     },
     "metadata": {
      "needs_background": "light"
     },
     "output_type": "display_data"
    }
   ],
   "source": [
    "sns.jointplot('bedrooms','Price',data = df) #Price vs Bedrooms"
   ]
  },
  {
   "cell_type": "code",
   "execution_count": 8,
   "metadata": {},
   "outputs": [
    {
     "data": {
      "text/plain": [
       "<seaborn.axisgrid.JointGrid at 0x1a208d0a90>"
      ]
     },
     "execution_count": 8,
     "metadata": {},
     "output_type": "execute_result"
    },
    {
     "data": {
      "image/png": "[encoded data removed]",
      "text/plain": [
       "<Figure size 432x432 with 3 Axes>"
      ]
     },
     "metadata": {
      "needs_background": "light"
     },
     "output_type": "display_data"
    }
   ],
   "source": [
    "sns.jointplot('accommodates','Price',data = df) #Price vs Accommodates"
   ]
  },
  {
   "cell_type": "code",
   "execution_count": 9,
   "metadata": {},
   "outputs": [
    {
     "data": {
      "text/plain": [
       "<seaborn.axisgrid.JointGrid at 0x1a20af7828>"
      ]
     },
     "execution_count": 9,
     "metadata": {},
     "output_type": "execute_result"
    },
    {
     "data": {
      "image/png": "[encoded data removed]",
      "text/plain": [
       "<Figure size 432x432 with 3 Axes>"
      ]
     },
     "metadata": {
      "needs_background": "light"
     },
     "output_type": "display_data"
    }
   ],
   "source": [
    "sns.jointplot('bathrooms','Price',data = df) #Price vs Bathrooms"
   ]
  },
  {
   "cell_type": "code",
   "execution_count": 10,
   "metadata": {},
   "outputs": [
    {
     "data": {
      "text/plain": [
       "<seaborn.axisgrid.JointGrid at 0x1a22287748>"
      ]
     },
     "execution_count": 10,
     "metadata": {},
     "output_type": "execute_result"
    },
    {
     "data": {
      "image/png": "[encoded data removed]",
      "text/plain": [
       "<Figure size 432x432 with 3 Axes>"
      ]
     },
     "metadata": {
      "needs_background": "light"
     },
     "output_type": "display_data"
    }
   ],
   "source": [
    "sns.jointplot('beds','Price',data = df) #Price vs Beds"
   ]
  },
  {
   "cell_type": "code",
   "execution_count": 11,
   "metadata": {},
   "outputs": [
    {
     "data": {
      "text/plain": [
       "<seaborn.axisgrid.JointGrid at 0x1a22586630>"
      ]
     },
     "execution_count": 11,
     "metadata": {},
     "output_type": "execute_result"
    },
    {
     "data": {
      "image/png": "[encoded data removed]",
      "text/plain": [
       "<Figure size 432x432 with 3 Axes>"
      ]
     },
     "metadata": {
      "needs_background": "light"
     },
     "output_type": "display_data"
    }
   ],
   "source": [
    "sns.jointplot('guests_included','Price',data = df) #Price vs Guests Included"
   ]
  },
  {
   "cell_type": "markdown",
   "metadata": {},
   "source": [
    "# Categorical Variables"
   ]
  },
  {
   "cell_type": "markdown",
   "metadata": {},
   "source": [
    "We need to first understand the distribution and behaviour of the categorical variables in the dataset to decide how to transform them.\n",
    "For that, we will use the group by function to analyse the records based on host response time, city, property type, room type, bed type & cancellation policy. Based on the distribution of records in various categories, we will decide how to transform these variables."
   ]
  },
  {
   "cell_type": "code",
   "execution_count": 12,
   "metadata": {},
   "outputs": [
    {
     "data": {
      "text/plain": [
       "host_response_time\n",
       "a few days or more      63\n",
       "within a day           791\n",
       "within a few hours    1159\n",
       "within an hour        1276\n",
       "dtype: int64"
      ]
     },
     "execution_count": 12,
     "metadata": {},
     "output_type": "execute_result"
    }
   ],
   "source": [
    "df.groupby('host_response_time').size() #Check distribution of host response time"
   ]
  },
  {
   "cell_type": "code",
   "execution_count": 13,
   "metadata": {},
   "outputs": [
    {
     "data": {
      "text/plain": [
       "Text(0.5, 1.0, 'Exploring the feature: Host Response Time')"
      ]
     },
     "execution_count": 13,
     "metadata": {},
     "output_type": "execute_result"
    },
    {
     "data": {
      "image/png": "[encoded data removed]",
      "text/plain": [
       "<Figure size 432x288 with 1 Axes>"
      ]
     },
     "metadata": {
      "needs_background": "light"
     },
     "output_type": "display_data"
    }
   ],
   "source": [
    "df.groupby([\"host_response_time\"]).size().plot(kind=\"bar\",fontsize=15,color=['yellow', 'red', 'cyan','purple'])\n",
    "plt.xlabel('Host Response Time')\n",
    "plt.ylabel('Number of Records')\n",
    "plt.title('Exploring the feature: Host Response Time')"
   ]
  },
  {
   "cell_type": "code",
   "execution_count": 14,
   "metadata": {},
   "outputs": [
    {
     "data": {
      "text/plain": [
       "city\n",
       "Adams Morgan                          1\n",
       "Annapolis                             1\n",
       "Arlington                             1\n",
       "Capitol Heights                       1\n",
       "Capitol Hill, Washington              1\n",
       "Columbia Heights, middle of DC!       1\n",
       "Dupont Circle                         1\n",
       "Hyattsville                           2\n",
       "Mount Rainier                         5\n",
       "New York                              1\n",
       "Silver Spring                         8\n",
       "Takoma Park                           6\n",
       "Washington                         3628\n",
       "Washington                            2\n",
       "Washington, D.C.                     63\n",
       "chevy chase                           1\n",
       "dtype: int64"
      ]
     },
     "execution_count": 14,
     "metadata": {},
     "output_type": "execute_result"
    }
   ],
   "source": [
    "df.groupby('city').size() #Check distribution of cities"
   ]
  },
  {
   "cell_type": "code",
   "execution_count": 15,
   "metadata": {},
   "outputs": [
    {
     "data": {
      "text/plain": [
       "Text(0.5, 1.0, 'Exploring the feature: City')"
      ]
     },
     "execution_count": 15,
     "metadata": {},
     "output_type": "execute_result"
    },
    {
     "data": {
      "image/png": "[encoded data removed]",
      "text/plain": [
       "<Figure size 432x288 with 1 Axes>"
      ]
     },
     "metadata": {
      "needs_background": "light"
     },
     "output_type": "display_data"
    }
   ],
   "source": [
    "df.groupby([\"city\"]).size().plot(kind=\"bar\",fontsize=15,color=['yellow', 'red', 'green', 'blue','coral', 'cyan','purple','pink','black'])\n",
    "plt.xlabel('City')\n",
    "plt.ylabel('Number of Records')\n",
    "plt.title('Exploring the feature: City')"
   ]
  },
  {
   "cell_type": "code",
   "execution_count": 16,
   "metadata": {},
   "outputs": [
    {
     "data": {
      "text/plain": [
       "property_type\n",
       "Apartment          2259\n",
       "Bed & Breakfast      55\n",
       "Boat                  2\n",
       "Bungalow              1\n",
       "Cabin                 1\n",
       "Condominium          86\n",
       "Dorm                  2\n",
       "House              1210\n",
       "Loft                 24\n",
       "Other                12\n",
       "Townhouse            70\n",
       "dtype: int64"
      ]
     },
     "execution_count": 16,
     "metadata": {},
     "output_type": "execute_result"
    }
   ],
   "source": [
    "df.groupby('property_type').size() #Check distribution of property type"
   ]
  },
  {
   "cell_type": "code",
   "execution_count": 17,
   "metadata": {},
   "outputs": [
    {
     "data": {
      "text/plain": [
       "Text(0.5, 1.0, 'Exploring the feature: Property Type')"
      ]
     },
     "execution_count": 17,
     "metadata": {},
     "output_type": "execute_result"
    },
    {
     "data": {
      "image/png": "[encoded data removed]",
      "text/plain": [
       "<Figure size 432x288 with 1 Axes>"
      ]
     },
     "metadata": {
      "needs_background": "light"
     },
     "output_type": "display_data"
    }
   ],
   "source": [
    "df.groupby([\"property_type\"]).size().plot(kind=\"bar\",fontsize=15,color=['yellow', 'red', 'green', 'blue','coral', 'cyan','purple','pink','black'])\n",
    "plt.xlabel('Property Type')\n",
    "plt.ylabel('Number of Records')\n",
    "plt.title('Exploring the feature: Property Type')"
   ]
  },
  {
   "cell_type": "code",
   "execution_count": 18,
   "metadata": {},
   "outputs": [
    {
     "data": {
      "text/plain": [
       "room_type\n",
       "Entire home/apt    2419\n",
       "Private room       1202\n",
       "Shared room         102\n",
       "dtype: int64"
      ]
     },
     "execution_count": 18,
     "metadata": {},
     "output_type": "execute_result"
    }
   ],
   "source": [
    "df.groupby('room_type').size() #Check distribution of room type"
   ]
  },
  {
   "cell_type": "code",
   "execution_count": 19,
   "metadata": {},
   "outputs": [
    {
     "data": {
      "text/plain": [
       "Text(0.5, 1.0, 'Exploring the feature: Room Type')"
      ]
     },
     "execution_count": 19,
     "metadata": {},
     "output_type": "execute_result"
    },
    {
     "data": {
      "image/png": "[encoded data removed]",
      "text/plain": [
       "<Figure size 432x288 with 1 Axes>"
      ]
     },
     "metadata": {
      "needs_background": "light"
     },
     "output_type": "display_data"
    }
   ],
   "source": [
    "df.groupby([\"room_type\"]).size().plot(kind=\"bar\",fontsize=15,color=['coral','purple','pink'])\n",
    "plt.xlabel('Room Type')\n",
    "plt.ylabel('Number of Records')\n",
    "plt.title('Exploring the feature: Room Type')"
   ]
  },
  {
   "cell_type": "code",
   "execution_count": 20,
   "metadata": {},
   "outputs": [
    {
     "data": {
      "text/plain": [
       "bed_type\n",
       "Airbed             37\n",
       "Couch              13\n",
       "Futon              55\n",
       "Pull-out Sofa      48\n",
       "Real Bed         3570\n",
       "dtype: int64"
      ]
     },
     "execution_count": 20,
     "metadata": {},
     "output_type": "execute_result"
    }
   ],
   "source": [
    "df.groupby('bed_type').size() #Check distribution of bed type"
   ]
  },
  {
   "cell_type": "code",
   "execution_count": 21,
   "metadata": {},
   "outputs": [
    {
     "data": {
      "text/plain": [
       "Text(0.5, 1.0, 'Exploring the feature: Bed Type')"
      ]
     },
     "execution_count": 21,
     "metadata": {},
     "output_type": "execute_result"
    },
    {
     "data": {
      "image/png": "[encoded data removed]",
      "text/plain": [
       "<Figure size 432x288 with 1 Axes>"
      ]
     },
     "metadata": {
      "needs_background": "light"
     },
     "output_type": "display_data"
    }
   ],
   "source": [
    "df.groupby([\"bed_type\"]).size().plot(kind=\"bar\",fontsize=15,color=['yellow', 'red', 'cyan','purple','pink'])\n",
    "plt.xlabel('Bed Type')\n",
    "plt.ylabel('Number of Records')\n",
    "plt.title('Exploring the feature: Bed Type')"
   ]
  },
  {
   "cell_type": "code",
   "execution_count": 22,
   "metadata": {},
   "outputs": [
    {
     "data": {
      "text/plain": [
       "cancellation_policy\n",
       "flexible           1373\n",
       "moderate           1099\n",
       "strict             1189\n",
       "super_strict_30      62\n",
       "dtype: int64"
      ]
     },
     "execution_count": 22,
     "metadata": {},
     "output_type": "execute_result"
    }
   ],
   "source": [
    "df.groupby('cancellation_policy').size() #Check distribution of cancellation policy"
   ]
  },
  {
   "cell_type": "code",
   "execution_count": 23,
   "metadata": {},
   "outputs": [
    {
     "data": {
      "text/plain": [
       "Text(0.5, 1.0, 'Exploring the feature: Cancellation Policy')"
      ]
     },
     "execution_count": 23,
     "metadata": {},
     "output_type": "execute_result"
    },
    {
     "data": {
      "image/png": "[encoded data removed]",
      "text/plain": [
       "<Figure size 432x288 with 1 Axes>"
      ]
     },
     "metadata": {
      "needs_background": "light"
     },
     "output_type": "display_data"
    }
   ],
   "source": [
    "df.groupby([\"cancellation_policy\"]).size().plot(kind=\"bar\",fontsize=15,color=['red', 'green', 'blue', 'black'])\n",
    "plt.xlabel('Cancellation Policy')\n",
    "plt.ylabel('Number of Records')\n",
    "plt.title('Exploring the feature: Cancellation Policy')"
   ]
  },
  {
   "cell_type": "markdown",
   "metadata": {},
   "source": [
    "Based on our analysis using the group by function. We decide on the following points:\n",
    "- Based on the distribution of records, we will transform the host response time variable to have the following 3 categories: within an hour, within a few hours, within a day or more.\n",
    "- Most of the listings are from Washington and we see some listings from other cities and so, we decide to transform the data in way that we have only 2 categories of city: Washington D.C. & Other.\n",
    "- For property type, we see some irregularities and to deal with that we will transform the data to include only the following 3 categories of property type: Apartment, House & Other.\n",
    "- For room type, the data seems fairly distributed and we will let these categories be as they are.\n",
    "- For bed type, we see most of the listings are for real bed and and so, we decide to transform the data in way that we have only 2 categories of bed type: Real Bed & Other.\n",
    "- For cancellation policy, the data seems fairly distributed and we will let these categories be as they are."
   ]
  },
  {
   "cell_type": "markdown",
   "metadata": {},
   "source": [
    "# Data Transformation\n",
    "\n",
    "We will first transform our categorical variables based on the categories we defined in the previous step.\n",
    "Next, we will convert all of them to binary variables using one hot vector. \n",
    "And in the end, we will be converting our boolean variables (All the amenities columns) to binary variables."
   ]
  },
  {
   "cell_type": "code",
   "execution_count": 24,
   "metadata": {},
   "outputs": [
    {
     "data": {
      "text/plain": [
       "host_response_time\n",
       "within a day or more     854\n",
       "within a few hours      1159\n",
       "within an hour          1276\n",
       "dtype: int64"
      ]
     },
     "execution_count": 24,
     "metadata": {},
     "output_type": "execute_result"
    }
   ],
   "source": [
    "#Map all the host response time to within an hour, within a few hours, within a day or more.\n",
    "df['host_response_time'] = df['host_response_time'].map({'a few days or more':'within a day or more', 'within a day':'within a day or more', 'within a few hours':'within a few hours', 'within an hour':'within an hour'})\n",
    "\n",
    "#Verify the categories in host reponse time\n",
    "df.groupby('host_response_time').size() "
   ]
  },
  {
   "cell_type": "code",
   "execution_count": 25,
   "metadata": {},
   "outputs": [
    {
     "data": {
      "text/plain": [
       "city\n",
       "Other                 26\n",
       "Washington, D.C.    3631\n",
       "dtype: int64"
      ]
     },
     "execution_count": 25,
     "metadata": {},
     "output_type": "execute_result"
    }
   ],
   "source": [
    "#Map all the cities to either Washington, D.C. or Other\n",
    "df['city'] = df['city'].map({'Adams Morgan':'Washington, D.C.', 'Annapolis':'Other', 'Arlington':'Other', 'Capitol Heights':'Other','Capitol Hill, Washington':'Washington, D.C.', \n",
    "                             'Columbia Heights, middle of DC!':'Washington, D.C.', 'Dupont Circle ':'Washington, D.C.', 'Hyattsville':'Other', 'Mount Rainier':'Other', 'New York':'Other', \n",
    "                             'Silver Spring':'Other', 'Takoma Park':'Other', 'Washington':'Washington, D.C.', 'Washington':'Washington, D.C.', 'chevy chase':'Other'})\n",
    "\n",
    "#Verify the categories in city\n",
    "df.groupby('city').size() "
   ]
  },
  {
   "cell_type": "code",
   "execution_count": 26,
   "metadata": {},
   "outputs": [
    {
     "data": {
      "text/plain": [
       "property_type\n",
       "Apartment    2259\n",
       "House        1210\n",
       "Other         253\n",
       "dtype: int64"
      ]
     },
     "execution_count": 26,
     "metadata": {},
     "output_type": "execute_result"
    }
   ],
   "source": [
    "#Map all the property types to Apartment, House & Other.\n",
    "df['property_type'] = df['property_type'].map({'Boat':'Other', 'Bungalow':'Other', 'Cabin':'Other', 'Dorm':'Other', 'Loft':'Other', 'Apartment':'Apartment','Bed & Breakfast':'Other','Condominium':'Other','House':'House','Townhouse':'Other','Other':'Other'})\n",
    "\n",
    "#Verify the categories in property type\n",
    "df.groupby('property_type').size() "
   ]
  },
  {
   "cell_type": "code",
   "execution_count": 27,
   "metadata": {},
   "outputs": [
    {
     "data": {
      "text/plain": [
       "bed_type\n",
       "Other        153\n",
       "Real Bed    3570\n",
       "dtype: int64"
      ]
     },
     "execution_count": 27,
     "metadata": {},
     "output_type": "execute_result"
    }
   ],
   "source": [
    "#Map all the bed types to either Real Bed & Other\n",
    "df['bed_type'] = df['bed_type'].map({'Airbed':'Other', 'Couch':'Other', 'Futon':'Other', 'Pull-out Sofa':'Other', 'Real Bed':'Real Bed'})\n",
    "\n",
    "#Verify the categories in bed type\n",
    "df.groupby('bed_type').size() "
   ]
  },
  {
   "cell_type": "code",
   "execution_count": 28,
   "metadata": {},
   "outputs": [
    {
     "data": {
      "text/html": [
       "<div>\n",
       "<style scoped>\n",
       "    .dataframe tbody tr th:only-of-type {\n",
       "        vertical-align: middle;\n",
       "    }\n",
       "\n",
       "    .dataframe tbody tr th {\n",
       "        vertical-align: top;\n",
       "    }\n",
       "\n",
       "    .dataframe thead th {\n",
       "        text-align: right;\n",
       "    }\n",
       "</style>\n",
       "<table border=\"1\" class=\"dataframe\">\n",
       "  <thead>\n",
       "    <tr style=\"text-align: right;\">\n",
       "      <th></th>\n",
       "      <th>host_response_rate</th>\n",
       "      <th>accommodates</th>\n",
       "      <th>bathrooms</th>\n",
       "      <th>bedrooms</th>\n",
       "      <th>beds</th>\n",
       "      <th>Kitchen</th>\n",
       "      <th>TV</th>\n",
       "      <th>Wireless Internet</th>\n",
       "      <th>Air Conditioning</th>\n",
       "      <th>Heating</th>\n",
       "      <th>...</th>\n",
       "      <th>Property_Other</th>\n",
       "      <th>room_Entire home/apt</th>\n",
       "      <th>room_Private room</th>\n",
       "      <th>room_Shared room</th>\n",
       "      <th>bed_Other</th>\n",
       "      <th>bed_Real Bed</th>\n",
       "      <th>cancellation_flexible</th>\n",
       "      <th>cancellation_moderate</th>\n",
       "      <th>cancellation_strict</th>\n",
       "      <th>cancellation_super_strict_30</th>\n",
       "    </tr>\n",
       "  </thead>\n",
       "  <tbody>\n",
       "    <tr>\n",
       "      <th>0</th>\n",
       "      <td>0.92</td>\n",
       "      <td>4</td>\n",
       "      <td>1.0</td>\n",
       "      <td>1.0</td>\n",
       "      <td>2.0</td>\n",
       "      <td>1</td>\n",
       "      <td>1</td>\n",
       "      <td>1</td>\n",
       "      <td>1</td>\n",
       "      <td>1</td>\n",
       "      <td>...</td>\n",
       "      <td>0</td>\n",
       "      <td>1</td>\n",
       "      <td>0</td>\n",
       "      <td>0</td>\n",
       "      <td>0</td>\n",
       "      <td>1</td>\n",
       "      <td>1</td>\n",
       "      <td>0</td>\n",
       "      <td>0</td>\n",
       "      <td>0</td>\n",
       "    </tr>\n",
       "    <tr>\n",
       "      <th>1</th>\n",
       "      <td>0.90</td>\n",
       "      <td>6</td>\n",
       "      <td>3.0</td>\n",
       "      <td>3.0</td>\n",
       "      <td>3.0</td>\n",
       "      <td>1</td>\n",
       "      <td>1</td>\n",
       "      <td>1</td>\n",
       "      <td>1</td>\n",
       "      <td>1</td>\n",
       "      <td>...</td>\n",
       "      <td>0</td>\n",
       "      <td>1</td>\n",
       "      <td>0</td>\n",
       "      <td>0</td>\n",
       "      <td>0</td>\n",
       "      <td>1</td>\n",
       "      <td>0</td>\n",
       "      <td>0</td>\n",
       "      <td>1</td>\n",
       "      <td>0</td>\n",
       "    </tr>\n",
       "    <tr>\n",
       "      <th>2</th>\n",
       "      <td>0.90</td>\n",
       "      <td>1</td>\n",
       "      <td>2.0</td>\n",
       "      <td>1.0</td>\n",
       "      <td>1.0</td>\n",
       "      <td>1</td>\n",
       "      <td>1</td>\n",
       "      <td>1</td>\n",
       "      <td>1</td>\n",
       "      <td>1</td>\n",
       "      <td>...</td>\n",
       "      <td>0</td>\n",
       "      <td>0</td>\n",
       "      <td>1</td>\n",
       "      <td>0</td>\n",
       "      <td>0</td>\n",
       "      <td>1</td>\n",
       "      <td>1</td>\n",
       "      <td>0</td>\n",
       "      <td>0</td>\n",
       "      <td>0</td>\n",
       "    </tr>\n",
       "    <tr>\n",
       "      <th>3</th>\n",
       "      <td>1.00</td>\n",
       "      <td>2</td>\n",
       "      <td>1.0</td>\n",
       "      <td>1.0</td>\n",
       "      <td>1.0</td>\n",
       "      <td>1</td>\n",
       "      <td>1</td>\n",
       "      <td>1</td>\n",
       "      <td>1</td>\n",
       "      <td>1</td>\n",
       "      <td>...</td>\n",
       "      <td>0</td>\n",
       "      <td>0</td>\n",
       "      <td>1</td>\n",
       "      <td>0</td>\n",
       "      <td>0</td>\n",
       "      <td>1</td>\n",
       "      <td>1</td>\n",
       "      <td>0</td>\n",
       "      <td>0</td>\n",
       "      <td>0</td>\n",
       "    </tr>\n",
       "    <tr>\n",
       "      <th>4</th>\n",
       "      <td>0.92</td>\n",
       "      <td>4</td>\n",
       "      <td>1.0</td>\n",
       "      <td>1.0</td>\n",
       "      <td>1.0</td>\n",
       "      <td>1</td>\n",
       "      <td>1</td>\n",
       "      <td>1</td>\n",
       "      <td>1</td>\n",
       "      <td>1</td>\n",
       "      <td>...</td>\n",
       "      <td>1</td>\n",
       "      <td>1</td>\n",
       "      <td>0</td>\n",
       "      <td>0</td>\n",
       "      <td>0</td>\n",
       "      <td>1</td>\n",
       "      <td>1</td>\n",
       "      <td>0</td>\n",
       "      <td>0</td>\n",
       "      <td>0</td>\n",
       "    </tr>\n",
       "  </tbody>\n",
       "</table>\n",
       "<p>5 rows × 49 columns</p>\n",
       "</div>"
      ],
      "text/plain": [
       "   host_response_rate  accommodates  bathrooms  bedrooms  beds  Kitchen  TV  \\\n",
       "0                0.92             4        1.0       1.0   2.0        1   1   \n",
       "1                0.90             6        3.0       3.0   3.0        1   1   \n",
       "2                0.90             1        2.0       1.0   1.0        1   1   \n",
       "3                1.00             2        1.0       1.0   1.0        1   1   \n",
       "4                0.92             4        1.0       1.0   1.0        1   1   \n",
       "\n",
       "   Wireless Internet  Air Conditioning  Heating  ...  Property_Other  \\\n",
       "0                  1                 1        1  ...               0   \n",
       "1                  1                 1        1  ...               0   \n",
       "2                  1                 1        1  ...               0   \n",
       "3                  1                 1        1  ...               0   \n",
       "4                  1                 1        1  ...               1   \n",
       "\n",
       "   room_Entire home/apt  room_Private room  room_Shared room  bed_Other  \\\n",
       "0                     1                  0                 0          0   \n",
       "1                     1                  0                 0          0   \n",
       "2                     0                  1                 0          0   \n",
       "3                     0                  1                 0          0   \n",
       "4                     1                  0                 0          0   \n",
       "\n",
       "   bed_Real Bed  cancellation_flexible  cancellation_moderate  \\\n",
       "0             1                      1                      0   \n",
       "1             1                      0                      0   \n",
       "2             1                      1                      0   \n",
       "3             1                      1                      0   \n",
       "4             1                      1                      0   \n",
       "\n",
       "   cancellation_strict  cancellation_super_strict_30  \n",
       "0                    0                             0  \n",
       "1                    1                             0  \n",
       "2                    0                             0  \n",
       "3                    0                             0  \n",
       "4                    0                             0  \n",
       "\n",
       "[5 rows x 49 columns]"
      ]
     },
     "execution_count": 28,
     "metadata": {},
     "output_type": "execute_result"
    }
   ],
   "source": [
    "#Converting response time to one hot vector\n",
    "col1 = pd.get_dummies(df.host_response_time, prefix='Reponse_time')\n",
    "del df['host_response_time']\n",
    "df= pd.concat([df, col1], axis=1)\n",
    "\n",
    "#Converting city to one hot vector\n",
    "col2 = pd.get_dummies(df.city, prefix='City')\n",
    "del df['city']\n",
    "df= pd.concat([df, col2], axis=1)\n",
    "\n",
    "#Converting property_type to one hot vector\n",
    "col3 = pd.get_dummies(df.property_type, prefix='Property')\n",
    "del df['property_type']\n",
    "df= pd.concat([df, col3], axis=1)\n",
    "\n",
    "#Converting room_type to one hot vector\n",
    "col4 = pd.get_dummies(df.room_type, prefix='room')\n",
    "del df['room_type']\n",
    "df= pd.concat([df, col4], axis=1)\n",
    "\n",
    "#Converting bed_type to one hot vector\n",
    "col5 = pd.get_dummies(df.bed_type, prefix='bed')\n",
    "del df['bed_type']\n",
    "df= pd.concat([df, col5], axis=1)\n",
    "\n",
    "#Converting cancellation_policy to one hot vector\n",
    "col6 = pd.get_dummies(df.cancellation_policy, prefix='cancellation')\n",
    "del df['cancellation_policy']\n",
    "df= pd.concat([df, col6], axis=1)\n",
    "\n",
    "#Convert all amenities to 0 & 1\n",
    "df['Kitchen'] = df['Kitchen'].map({False:0, True:1})\n",
    "df['TV'] = df['TV'].map({False:0, True:1})\n",
    "df['Wireless Internet'] = df['Wireless Internet'].map({False:0, True:1})\n",
    "df['Air Conditioning'] = df['Air Conditioning'].map({False:0, True:1})\n",
    "df['Heating'] = df['Heating'].map({False:0, True:1})\n",
    "df['Family/Kid Friendly'] = df['Family/Kid Friendly'].map({False:0, True:1})\n",
    "df['Washer'] = df['Washer'].map({False:0, True:1})\n",
    "df['Dryer'] = df['Dryer'].map({False:0, True:1})\n",
    "df['Smoke Detector'] = df['Smoke Detector'].map({False:0, True:1})\n",
    "df['First Aid Kit'] = df['First Aid Kit'].map({False:0, True:1})\n",
    "df['Safety Card'] = df['Safety Card'].map({False:0, True:1})\n",
    "df['Fire Extinguisher'] = df['Fire Extinguisher'].map({False:0, True:1})\n",
    "df['Essentials'] = df['Essentials'].map({False:0, True:1})\n",
    "df['Shampoo'] = df['Shampoo'].map({False:0, True:1})\n",
    "df['Pets'] = df['Pets'].map({False:0, True:1})\n",
    "df['Indoor Fireplace'] = df['Indoor Fireplace'].map({False:0, True:1})\n",
    "df['Carbon Monoxide Detector'] = df['Carbon Monoxide Detector'].map({False:0, True:1})\n",
    "df['Breakfast'] = df['Breakfast'].map({False:0, True:1})\n",
    "df['Smoking Allowed'] = df['Smoking Allowed'].map({False:0, True:1})\n",
    "df['Buzzer/Wireless Intercom'] = df['Buzzer/Wireless Intercom'].map({False:0, True:1})\n",
    "\n",
    "df.head()"
   ]
  },
  {
   "cell_type": "code",
   "execution_count": 29,
   "metadata": {},
   "outputs": [
    {
     "data": {
      "text/plain": [
       "(3723, 49)"
      ]
     },
     "execution_count": 29,
     "metadata": {},
     "output_type": "execute_result"
    }
   ],
   "source": [
    "df.shape #Check the number of rows & columns in the dataset"
   ]
  },
  {
   "cell_type": "markdown",
   "metadata": {},
   "source": [
    "# Understanding the Data\n",
    "\n",
    "We start by understanding the columns and data types of all columns before we finally start building our model."
   ]
  },
  {
   "cell_type": "code",
   "execution_count": 30,
   "metadata": {
    "scrolled": true
   },
   "outputs": [
    {
     "name": "stdout",
     "output_type": "stream",
     "text": [
      "<class 'pandas.core.frame.DataFrame'>\n",
      "RangeIndex: 3723 entries, 0 to 3722\n",
      "Data columns (total 49 columns):\n",
      "host_response_rate                   3289 non-null float64\n",
      "accommodates                         3723 non-null int64\n",
      "bathrooms                            3696 non-null float64\n",
      "bedrooms                             3702 non-null float64\n",
      "beds                                 3712 non-null float64\n",
      "Kitchen                              3723 non-null int64\n",
      "TV                                   3723 non-null int64\n",
      "Wireless Internet                    3723 non-null int64\n",
      "Air Conditioning                     3723 non-null int64\n",
      "Heating                              3723 non-null int64\n",
      "Family/Kid Friendly                  3723 non-null int64\n",
      "Washer                               3723 non-null int64\n",
      "Dryer                                3723 non-null int64\n",
      "Smoke Detector                       3723 non-null int64\n",
      "First Aid Kit                        3723 non-null int64\n",
      "Safety Card                          3723 non-null int64\n",
      "Fire Extinguisher                    3723 non-null int64\n",
      "Essentials                           3723 non-null int64\n",
      "Shampoo                              3723 non-null int64\n",
      "Parking                              3723 non-null bool\n",
      "Pets                                 3723 non-null int64\n",
      "Indoor Fireplace                     3723 non-null int64\n",
      "Carbon Monoxide Detector             3723 non-null int64\n",
      "Breakfast                            3723 non-null int64\n",
      "Smoking Allowed                      3723 non-null int64\n",
      "Buzzer/Wireless Intercom             3723 non-null int64\n",
      "Price                                3723 non-null int64\n",
      "guests_included                      3723 non-null int64\n",
      "minimum_nights                       3723 non-null int64\n",
      "maximum_nights                       3723 non-null int64\n",
      "number_of_reviews                    3723 non-null int64\n",
      "review_scores_rating                 2855 non-null float64\n",
      "Reponse_time_within a day or more    3723 non-null uint8\n",
      "Reponse_time_within a few hours      3723 non-null uint8\n",
      "Reponse_time_within an hour          3723 non-null uint8\n",
      "City_Other                           3723 non-null uint8\n",
      "City_Washington, D.C.                3723 non-null uint8\n",
      "Property_Apartment                   3723 non-null uint8\n",
      "Property_House                       3723 non-null uint8\n",
      "Property_Other                       3723 non-null uint8\n",
      "room_Entire home/apt                 3723 non-null uint8\n",
      "room_Private room                    3723 non-null uint8\n",
      "room_Shared room                     3723 non-null uint8\n",
      "bed_Other                            3723 non-null uint8\n",
      "bed_Real Bed                         3723 non-null uint8\n",
      "cancellation_flexible                3723 non-null uint8\n",
      "cancellation_moderate                3723 non-null uint8\n",
      "cancellation_strict                  3723 non-null uint8\n",
      "cancellation_super_strict_30         3723 non-null uint8\n",
      "dtypes: bool(1), float64(5), int64(26), uint8(17)\n",
      "memory usage: 967.2 KB\n"
     ]
    }
   ],
   "source": [
    "df.info() #Check the datatype for all columns"
   ]
  },
  {
   "cell_type": "code",
   "execution_count": 31,
   "metadata": {
    "scrolled": true
   },
   "outputs": [
    {
     "data": {
      "text/plain": [
       "Index(['host_response_rate', 'accommodates', 'bathrooms', 'bedrooms', 'beds',\n",
       "       'Kitchen', 'TV', 'Wireless Internet', 'Air Conditioning', 'Heating',\n",
       "       'Family/Kid Friendly', 'Washer', 'Dryer', 'Smoke Detector',\n",
       "       'First Aid Kit', 'Safety Card', 'Fire Extinguisher', 'Essentials',\n",
       "       'Shampoo', 'Parking ', 'Pets', 'Indoor Fireplace',\n",
       "       'Carbon Monoxide Detector', 'Breakfast', 'Smoking Allowed',\n",
       "       'Buzzer/Wireless Intercom', 'Price', 'guests_included',\n",
       "       'minimum_nights', 'maximum_nights', 'number_of_reviews',\n",
       "       'review_scores_rating', 'Reponse_time_within a day or more',\n",
       "       'Reponse_time_within a few hours', 'Reponse_time_within an hour',\n",
       "       'City_Other', 'City_Washington, D.C.', 'Property_Apartment',\n",
       "       'Property_House', 'Property_Other', 'room_Entire home/apt',\n",
       "       'room_Private room', 'room_Shared room', 'bed_Other', 'bed_Real Bed',\n",
       "       'cancellation_flexible', 'cancellation_moderate', 'cancellation_strict',\n",
       "       'cancellation_super_strict_30'],\n",
       "      dtype='object')"
      ]
     },
     "execution_count": 31,
     "metadata": {},
     "output_type": "execute_result"
    }
   ],
   "source": [
    "df.columns #Checking the columns we are using in the model"
   ]
  },
  {
   "cell_type": "markdown",
   "metadata": {},
   "source": [
    "# Data Imputation\n",
    "\n",
    "Now, we check for null values in our datset and try to eliminate them. We replace all the missing values with the mean for each column."
   ]
  },
  {
   "cell_type": "code",
   "execution_count": 32,
   "metadata": {},
   "outputs": [],
   "source": [
    "#Resetting the index to eliminate any infinite values\n",
    "df = df.reset_index()\n",
    "\n",
    "#Defining our dependent and independent variables \n",
    "X = df[['host_response_rate', 'accommodates', 'bathrooms', 'bedrooms', 'beds','Kitchen', 'TV', 'Wireless Internet', \n",
    "        'Air Conditioning', 'Heating','Family/Kid Friendly', 'Washer', 'Dryer', 'Smoke Detector', 'First Aid Kit', \n",
    "        'Safety Card', 'Fire Extinguisher', 'Essentials', 'Shampoo', 'Parking ', 'Pets', 'Indoor Fireplace', \n",
    "        'Carbon Monoxide Detector', 'Breakfast', 'Smoking Allowed', 'Buzzer/Wireless Intercom', 'guests_included',\n",
    "        'minimum_nights', 'maximum_nights', 'number_of_reviews', 'review_scores_rating', 'Reponse_time_within a day or more',\n",
    "        'Reponse_time_within a few hours', 'Reponse_time_within an hour', 'City_Other', 'City_Washington, D.C.', 'Property_Apartment',\n",
    "        'Property_House', 'Property_Other', 'room_Entire home/apt','room_Private room', 'room_Shared room', 'bed_Other', \n",
    "        'bed_Real Bed', 'cancellation_flexible', 'cancellation_moderate', 'cancellation_strict', 'cancellation_super_strict_30']]\n",
    "y = df['Price']"
   ]
  },
  {
   "cell_type": "code",
   "execution_count": 33,
   "metadata": {},
   "outputs": [
    {
     "data": {
      "text/plain": [
       "host_response_rate                   434\n",
       "accommodates                           0\n",
       "bathrooms                             27\n",
       "bedrooms                              21\n",
       "beds                                  11\n",
       "Kitchen                                0\n",
       "TV                                     0\n",
       "Wireless Internet                      0\n",
       "Air Conditioning                       0\n",
       "Heating                                0\n",
       "Family/Kid Friendly                    0\n",
       "Washer                                 0\n",
       "Dryer                                  0\n",
       "Smoke Detector                         0\n",
       "First Aid Kit                          0\n",
       "Safety Card                            0\n",
       "Fire Extinguisher                      0\n",
       "Essentials                             0\n",
       "Shampoo                                0\n",
       "Parking                                0\n",
       "Pets                                   0\n",
       "Indoor Fireplace                       0\n",
       "Carbon Monoxide Detector               0\n",
       "Breakfast                              0\n",
       "Smoking Allowed                        0\n",
       "Buzzer/Wireless Intercom               0\n",
       "guests_included                        0\n",
       "minimum_nights                         0\n",
       "maximum_nights                         0\n",
       "number_of_reviews                      0\n",
       "review_scores_rating                 868\n",
       "Reponse_time_within a day or more      0\n",
       "Reponse_time_within a few hours        0\n",
       "Reponse_time_within an hour            0\n",
       "City_Other                             0\n",
       "City_Washington, D.C.                  0\n",
       "Property_Apartment                     0\n",
       "Property_House                         0\n",
       "Property_Other                         0\n",
       "room_Entire home/apt                   0\n",
       "room_Private room                      0\n",
       "room_Shared room                       0\n",
       "bed_Other                              0\n",
       "bed_Real Bed                           0\n",
       "cancellation_flexible                  0\n",
       "cancellation_moderate                  0\n",
       "cancellation_strict                    0\n",
       "cancellation_super_strict_30           0\n",
       "dtype: int64"
      ]
     },
     "execution_count": 33,
     "metadata": {},
     "output_type": "execute_result"
    }
   ],
   "source": [
    "X.isna().sum()"
   ]
  },
  {
   "cell_type": "code",
   "execution_count": 34,
   "metadata": {},
   "outputs": [
    {
     "data": {
      "text/plain": [
       "host_response_rate                   0\n",
       "accommodates                         0\n",
       "bathrooms                            0\n",
       "bedrooms                             0\n",
       "beds                                 0\n",
       "Kitchen                              0\n",
       "TV                                   0\n",
       "Wireless Internet                    0\n",
       "Air Conditioning                     0\n",
       "Heating                              0\n",
       "Family/Kid Friendly                  0\n",
       "Washer                               0\n",
       "Dryer                                0\n",
       "Smoke Detector                       0\n",
       "First Aid Kit                        0\n",
       "Safety Card                          0\n",
       "Fire Extinguisher                    0\n",
       "Essentials                           0\n",
       "Shampoo                              0\n",
       "Parking                              0\n",
       "Pets                                 0\n",
       "Indoor Fireplace                     0\n",
       "Carbon Monoxide Detector             0\n",
       "Breakfast                            0\n",
       "Smoking Allowed                      0\n",
       "Buzzer/Wireless Intercom             0\n",
       "guests_included                      0\n",
       "minimum_nights                       0\n",
       "maximum_nights                       0\n",
       "number_of_reviews                    0\n",
       "review_scores_rating                 0\n",
       "Reponse_time_within a day or more    0\n",
       "Reponse_time_within a few hours      0\n",
       "Reponse_time_within an hour          0\n",
       "City_Other                           0\n",
       "City_Washington, D.C.                0\n",
       "Property_Apartment                   0\n",
       "Property_House                       0\n",
       "Property_Other                       0\n",
       "room_Entire home/apt                 0\n",
       "room_Private room                    0\n",
       "room_Shared room                     0\n",
       "bed_Other                            0\n",
       "bed_Real Bed                         0\n",
       "cancellation_flexible                0\n",
       "cancellation_moderate                0\n",
       "cancellation_strict                  0\n",
       "cancellation_super_strict_30         0\n",
       "dtype: int64"
      ]
     },
     "execution_count": 34,
     "metadata": {},
     "output_type": "execute_result"
    }
   ],
   "source": [
    "X = X.fillna(X.mean()) \n",
    "X.isna().sum()"
   ]
  },
  {
   "cell_type": "markdown",
   "metadata": {},
   "source": [
    "# Split the data\n",
    "\n",
    "Now we will split the data into training and test sets. We will keep 75% of the data to train the model and keep 25% of the data to test the model that we build"
   ]
  },
  {
   "cell_type": "code",
   "execution_count": 35,
   "metadata": {},
   "outputs": [
    {
     "name": "stdout",
     "output_type": "stream",
     "text": [
      "X_train unscaled : (2792, 48)\n",
      "X_test unscaled: (931, 48)\n",
      "y_train : (2792,)\n",
      "y_test : (931,)\n"
     ]
    }
   ],
   "source": [
    "#Split the data to train and test sets\n",
    "from sklearn.model_selection import train_test_split\n",
    "\n",
    "X_train_org, X_test_org, y_train, y_test = train_test_split(X, y, random_state = 0, test_size = 0.25)\n",
    "\n",
    "#Check the number of records in training and test partitions\n",
    "print(\"X_train unscaled : \" + str(X_train_org.shape))\n",
    "print(\"X_test unscaled: \" + str(X_test_org.shape))\n",
    "print(\"y_train : \" + str(y_train.shape))\n",
    "print(\"y_test : \" + str(y_test.shape))"
   ]
  },
  {
   "cell_type": "markdown",
   "metadata": {},
   "source": [
    "# Data Scaling"
   ]
  },
  {
   "cell_type": "code",
   "execution_count": 36,
   "metadata": {
    "scrolled": true
   },
   "outputs": [
    {
     "name": "stdout",
     "output_type": "stream",
     "text": [
      "X_train : (2792, 48)\n",
      "X_test : (931, 48)\n",
      "y_train : (2792,)\n",
      "y_test : (931,)\n"
     ]
    }
   ],
   "source": [
    "#Standardize the training and test sets\n",
    "from sklearn.preprocessing import StandardScaler\n",
    "\n",
    "scaler = StandardScaler()\n",
    "X_train = scaler.fit_transform(X_train_org)\n",
    "X_test = scaler.transform(X_test_org)\n",
    "\n",
    "#Check the number of records in training and test partitions\n",
    "print(\"X_train : \" + str(X_train.shape))\n",
    "print(\"X_test : \" + str(X_test.shape))\n",
    "print(\"y_train : \" + str(y_train.shape))\n",
    "print(\"y_test : \" + str(y_test.shape))"
   ]
  },
  {
   "cell_type": "markdown",
   "metadata": {},
   "source": [
    "### Best Parameters for Models:\n",
    "We will use the best parameters that we established in Project 1, to build our Ensemble Learning Models. Following are the list of best parameters that we established for all the models:"
   ]
  },
  {
   "cell_type": "markdown",
   "metadata": {},
   "source": [
    "<img src=\"best_model.png\">"
   ]
  },
  {
   "cell_type": "markdown",
   "metadata": {},
   "source": [
    "## 1) Bagging "
   ]
  },
  {
   "cell_type": "markdown",
   "metadata": {},
   "source": [
    "### 1.A) Bagging with KNN Regressor\n",
    "\n",
    "Using the best paramerters from Project 1 KNN Regressor Model as - {'n_neighbors':11,'weights':'distance'}"
   ]
  },
  {
   "cell_type": "code",
   "execution_count": 37,
   "metadata": {},
   "outputs": [
    {
     "name": "stdout",
     "output_type": "stream",
     "text": [
      "Traing Score: 0.7611521260663482\n",
      "Test Score: 0.34204051337983343\n",
      "\n",
      "MAE: 46.046161404797715\n",
      "MSE: 9088.838638354471\n",
      "RMSE: 95.33540076149295\n",
      "r2_Score: 0.34204051337983343\n"
     ]
    }
   ],
   "source": [
    "from sklearn.neighbors import KNeighborsRegressor\n",
    "from sklearn.ensemble import BaggingRegressor\n",
    "from sklearn import metrics\n",
    "from sklearn.metrics import r2_score, mean_squared_error, mean_absolute_error\n",
    "\n",
    "#KNeighborsRegressor with Bagging\n",
    "bag_reg1 = BaggingRegressor(KNeighborsRegressor(n_neighbors= 11, weights= 'distance'),max_features=12,  n_estimators=500, random_state=0, bootstrap = True)\n",
    "bag_reg1.fit(X_train, y_train)\n",
    "yPredictionreg1 = bag_reg1.predict(X_test)\n",
    "\n",
    "#Printing Results\n",
    "print(\"Traing Score:\",bag_reg1.score(X_train, y_train))\n",
    "print(\"Test Score:\",bag_reg1.score(X_test, y_test))\n",
    "print()\n",
    "print('MAE:', metrics.mean_absolute_error(y_test, yPredictionreg1))\n",
    "print('MSE:', metrics.mean_squared_error(y_test, yPredictionreg1))\n",
    "print('RMSE:', np.sqrt(metrics.mean_squared_error(y_test, yPredictionreg1)))\n",
    "print(\"r2_Score:\",r2_score(y_test, yPredictionreg1))"
   ]
  },
  {
   "cell_type": "markdown",
   "metadata": {},
   "source": [
    "### 1.B) Bagging with LinearSVR Regressor\n",
    "Using the best paramerters from Project 1 LinearSVR Regression Model as - {'C':10}"
   ]
  },
  {
   "cell_type": "code",
   "execution_count": 38,
   "metadata": {},
   "outputs": [
    {
     "name": "stdout",
     "output_type": "stream",
     "text": [
      "Traing Score: 0.1471699792460398\n",
      "Test Score: 0.16200495514331825\n",
      "\n",
      "MAE: 49.80236722312897\n",
      "MSE: 11575.791363032462\n",
      "RMSE: 107.59085166979794\n",
      "r2_Score: 0.16200495514331825\n"
     ]
    }
   ],
   "source": [
    "from sklearn.ensemble import BaggingRegressor\n",
    "from sklearn.linear_model import LinearRegression\n",
    "from sklearn.svm import LinearSVR\n",
    "from sklearn import metrics\n",
    "from sklearn.metrics import r2_score, mean_squared_error, mean_absolute_error\n",
    "\n",
    "#LinearSVR Regressor with Bagging\n",
    "lsvr_bag=LinearSVR(C=10)\n",
    "bag_reg1 = BaggingRegressor(lsvr_bag,max_features=7,  n_estimators=300, random_state=0, bootstrap = True)\n",
    "bag_reg1.fit(X_train, y_train)\n",
    "yPred_bag_lsvr= bag_reg1.predict(X_test)\n",
    "\n",
    "#Printing Results\n",
    "print(\"Traing Score:\",bag_reg1.score(X_train, y_train))\n",
    "print(\"Test Score:\",bag_reg1.score(X_test, y_test))\n",
    "print()\n",
    "print('MAE:', metrics.mean_absolute_error(y_test, yPred_bag_lsvr))\n",
    "print('MSE:', metrics.mean_squared_error(y_test, yPred_bag_lsvr))\n",
    "print('RMSE:', np.sqrt(metrics.mean_squared_error(y_test, yPred_bag_lsvr)))\n",
    "print(\"r2_Score:\",r2_score(y_test, yPred_bag_lsvr))"
   ]
  },
  {
   "cell_type": "markdown",
   "metadata": {},
   "source": [
    "## 2) Pasting"
   ]
  },
  {
   "cell_type": "markdown",
   "metadata": {},
   "source": [
    "### 2.A) Pasting with KNN Regressor\n",
    "Using the best paramerters from Project 1 KNN Regressor Model as - {'n_neighbors':11, 'weights':'distance'}"
   ]
  },
  {
   "cell_type": "code",
   "execution_count": 39,
   "metadata": {},
   "outputs": [
    {
     "name": "stdout",
     "output_type": "stream",
     "text": [
      "Traing Score: 0.8632834570457523\n",
      "Test Score: 0.35018757725400584\n",
      "\n",
      "MAE: 45.21854174488761\n",
      "MSE: 8976.297744219653\n",
      "RMSE: 94.74332559193631\n",
      "r2_Score: 0.35018757725400584\n"
     ]
    }
   ],
   "source": [
    "from sklearn.ensemble import BaggingRegressor\n",
    "from sklearn.neighbors import KNeighborsRegressor\n",
    "from sklearn import metrics\n",
    "from sklearn.metrics import r2_score, mean_squared_error, mean_absolute_error\n",
    "\n",
    "#KNN Regressor with Pasting\n",
    "bag_reg3 = BaggingRegressor(KNeighborsRegressor(n_neighbors= 11, weights= 'distance'), max_features=12, n_estimators=100, random_state=0, bootstrap = False)\n",
    "bag_reg3.fit(X_train, y_train)\n",
    "yPredictionreg34 = bag_reg3.predict(X_test)\n",
    "\n",
    "#Printing Results\n",
    "print(\"Traing Score:\",bag_reg3.score(X_train, y_train))\n",
    "print(\"Test Score:\",bag_reg3.score(X_test, y_test))\n",
    "print()\n",
    "print('MAE:', metrics.mean_absolute_error(y_test, yPredictionreg34))\n",
    "print('MSE:', metrics.mean_squared_error(y_test, yPredictionreg34))\n",
    "print('RMSE:', np.sqrt(metrics.mean_squared_error(y_test, yPredictionreg34)))\n",
    "print(\"r2_Score:\",r2_score(y_test, yPredictionreg34))"
   ]
  },
  {
   "cell_type": "markdown",
   "metadata": {},
   "source": [
    "### 2.B) Pasting with SGD Regressor\n",
    "Using the best paramerters from Project 1 SGD Regressor Model as - {'alpha': 0.0001, 'learning_rate': 'optimal', 'loss': 'epsilon_insensitive', 'max_iter': 10000, 'penalty': 'l1', 'tol': 0.0001}"
   ]
  },
  {
   "cell_type": "code",
   "execution_count": 40,
   "metadata": {},
   "outputs": [
    {
     "name": "stdout",
     "output_type": "stream",
     "text": [
      "Traing Score: 0.311850185577374\n",
      "Test Score: 0.3116390162466164\n",
      "\n",
      "MAE: 42.51638206432867\n",
      "MSE: 9508.79504513506\n",
      "RMSE: 97.5130506400813\n",
      "r2_Score: 0.3116390162466164\n"
     ]
    }
   ],
   "source": [
    "from sklearn.ensemble import BaggingRegressor\n",
    "from sklearn.linear_model import SGDRegressor\n",
    "from sklearn import metrics\n",
    "from sklearn.metrics import r2_score, mean_squared_error, mean_absolute_error\n",
    "\n",
    "#SGDRegressor with Pasting\n",
    "sgd = SGDRegressor(alpha= 0.0001, learning_rate= 'optimal',\n",
    "                   loss= 'epsilon_insensitive', max_iter= 10000,\n",
    "                   penalty= 'l1', tol= 0.0001)\n",
    "bag_reg_sgd = BaggingRegressor(sgd, max_features=29, n_estimators=100, random_state=0, bootstrap = False)\n",
    "bag_reg_sgd.fit(X_train, y_train)\n",
    "yPred_past_sgd= bag_reg_sgd.predict(X_test)\n",
    "\n",
    "#Printing Results\n",
    "print(\"Traing Score:\",bag_reg_sgd.score(X_train, y_train))\n",
    "print(\"Test Score:\",bag_reg_sgd.score(X_test, y_test))\n",
    "print()\n",
    "print('MAE:', metrics.mean_absolute_error(y_test, yPred_past_sgd))\n",
    "print('MSE:', metrics.mean_squared_error(y_test, yPred_past_sgd))\n",
    "print('RMSE:', np.sqrt(metrics.mean_squared_error(y_test, yPred_past_sgd)))\n",
    "print(\"r2_Score:\",r2_score(y_test, yPred_past_sgd))"
   ]
  },
  {
   "cell_type": "markdown",
   "metadata": {},
   "source": [
    "### 2.C) Pasting with Decision Tree Regressor\n",
    "By Plotting the graph for Decision Tree Regressor we get best parameter as - {'max_depth': 9}"
   ]
  },
  {
   "cell_type": "code",
   "execution_count": 41,
   "metadata": {
    "scrolled": true
   },
   "outputs": [
    {
     "data": {
      "text/plain": [
       "Text(0, 0.5, 'Scores')"
      ]
     },
     "execution_count": 41,
     "metadata": {},
     "output_type": "execute_result"
    },
    {
     "data": {
      "image/png": "[encoded data removed]",
      "text/plain": [
       "<Figure size 1440x864 with 1 Axes>"
      ]
     },
     "metadata": {},
     "output_type": "display_data"
    }
   ],
   "source": [
    "from sklearn.ensemble import BaggingRegressor\n",
    "from sklearn.tree import DecisionTreeRegressor\n",
    "\n",
    "sns.set(rc={'figure.figsize':(20,12)})\n",
    "\n",
    "\n",
    "train_score_array = []\n",
    "test_score_array = []\n",
    "\n",
    "for n in range(1,20):\n",
    "    dt_reg = DecisionTreeRegressor(max_depth=n,random_state=0)\n",
    "    bag_reg_dt = BaggingRegressor(dt_reg, n_estimators=500, max_samples=500, bootstrap=False,random_state=0)\n",
    "    bag_reg_dt.fit(X_train, y_train)\n",
    "    train_score_array.append(bag_reg_dt.score(X_train, y_train))\n",
    "    test_score_array.append(bag_reg_dt.score(X_test, y_test))\n",
    "\n",
    "x_axis = range(1,20)\n",
    "plt.plot(x_axis, train_score_array, c = 'g', label = 'Train Score')\n",
    "plt.plot(x_axis, test_score_array, c = 'b', label = 'Test Score')\n",
    "plt.legend()\n",
    "plt.xlabel('Max Depth')\n",
    "plt.ylabel('Scores')\n"
   ]
  },
  {
   "cell_type": "code",
   "execution_count": 42,
   "metadata": {},
   "outputs": [
    {
     "name": "stdout",
     "output_type": "stream",
     "text": [
      "Train score: 0.6029581204257344\n",
      "Test score: 0.3064321111055225\n",
      "\n",
      "MAE: 46.67585980599646\n",
      "MSE: 9580.721541515135\n",
      "RMSE: 97.88116029918697\n",
      "r2_Score: 0.3064321111055225\n"
     ]
    }
   ],
   "source": [
    "#DecisionTreeRegressor with Pasting\n",
    "dt_reg = DecisionTreeRegressor(max_depth=9,random_state=0)\n",
    "bag_reg_dt = BaggingRegressor(dt_reg, n_estimators=500, max_samples=500, bootstrap=False,random_state=0)\n",
    "bag_reg_dt.fit(X_train, y_train)\n",
    "\n",
    "y_pred=bag_reg_dt.predict(X_test)\n",
    "\n",
    "#Printing Results\n",
    "print('Train score:',bag_reg_dt.score(X_train, y_train))\n",
    "print('Test score:',bag_reg_dt.score(X_test, y_test))\n",
    "print()\n",
    "print('MAE:', metrics.mean_absolute_error(y_test, y_pred))\n",
    "print('MSE:', metrics.mean_squared_error(y_test, y_pred))\n",
    "print('RMSE:', np.sqrt(metrics.mean_squared_error(y_test, y_pred)))\n",
    "print(\"r2_Score:\",r2_score(y_test, y_pred))"
   ]
  },
  {
   "cell_type": "markdown",
   "metadata": {},
   "source": [
    "## 3) ADABoost Regressor"
   ]
  },
  {
   "cell_type": "markdown",
   "metadata": {},
   "source": [
    "### 3.A) ADABoost regressor with Linear SVR\n",
    "Using the best paramerters from Project 1 LinearSVR Regression Model as - {'C':10}"
   ]
  },
  {
   "cell_type": "code",
   "execution_count": 43,
   "metadata": {},
   "outputs": [
    {
     "name": "stdout",
     "output_type": "stream",
     "text": [
      "Test score 0.33606924634479873\n",
      "Train score 0.38583823713875454\n",
      "\n",
      "MAE: 45.47881754644251\n",
      "MSE: 9171.323781667385\n",
      "RMSE: 95.76702867724039\n",
      "r2_Score: 0.33606924634479873\n"
     ]
    },
    {
     "name": "stderr",
     "output_type": "stream",
     "text": [
      "//anaconda3/lib/python3.7/site-packages/sklearn/svm/base.py:929: ConvergenceWarning: Liblinear failed to converge, increase the number of iterations.\n",
      "  \"the number of iterations.\", ConvergenceWarning)\n"
     ]
    }
   ],
   "source": [
    "from sklearn.linear_model import LinearRegression\n",
    "from sklearn.svm import LinearSVR\n",
    "from sklearn.ensemble import AdaBoostRegressor\n",
    "from sklearn import metrics\n",
    "from sklearn.metrics import r2_score, mean_squared_error, mean_absolute_error\n",
    "\n",
    "lsvr = LinearSVR(C=10)\n",
    "adabst=AdaBoostRegressor(lsvr,n_estimators=3, random_state=0)\n",
    "adabst.fit(X_train, y_train)\n",
    "\n",
    "confidence = adabst.score(X_test, y_test)\n",
    "c1 =adabst.score(X_train, y_train)\n",
    "y_prediction_lsvr=adabst.predict(X_test)\n",
    "\n",
    "print(\"Test score\", confidence)\n",
    "print(\"Train score\", c1)\n",
    "print()\n",
    "print('MAE:', metrics.mean_absolute_error(y_test, y_prediction_lsvr))\n",
    "print('MSE:', metrics.mean_squared_error(y_test, y_prediction_lsvr))\n",
    "print('RMSE:', np.sqrt(metrics.mean_squared_error(y_test, y_prediction_lsvr)))\n",
    "print(\"r2_Score:\",r2_score(y_test, y_prediction_lsvr))"
   ]
  },
  {
   "cell_type": "markdown",
   "metadata": {},
   "source": [
    "### 3.B) ADABoost regressor with SVM (kernel = 'poly')\n",
    "Using the best paramerters from Project 1 SVM Regressor with kernel=poly as - {'C':0.001, 'gamma':0.001, 'epsilon':0.5}"
   ]
  },
  {
   "cell_type": "code",
   "execution_count": 44,
   "metadata": {},
   "outputs": [
    {
     "name": "stdout",
     "output_type": "stream",
     "text": [
      "Test score -0.03735506550617562\n",
      "Train score -0.04359663286587546\n",
      "\n",
      "MAE: 61.61707429641027\n",
      "MSE: 14329.685934763575\n",
      "RMSE: 119.70666620854318\n",
      "r2_Score: -0.03735506550617562\n"
     ]
    }
   ],
   "source": [
    "from sklearn.linear_model import LinearRegression\n",
    "from sklearn.svm import SVR\n",
    "from sklearn.ensemble import AdaBoostRegressor\n",
    "from sklearn import metrics\n",
    "from sklearn.metrics import r2_score, mean_squared_error, mean_absolute_error\n",
    "\n",
    "svr2=SVR(kernel='poly',C= 0.001, gamma=0.001, epsilon=0.5)\n",
    "adabst=AdaBoostRegressor(svr2,n_estimators=7, random_state=0)\n",
    "adabst.fit(X_train, y_train)\n",
    "\n",
    "confidence = adabst.score(X_test, y_test)\n",
    "c1 =adabst.score(X_train, y_train)\n",
    "y_prediction_svrs=adabst.predict(X_test)\n",
    "\n",
    "print(\"Test score\", confidence)\n",
    "print(\"Train score\", c1)\n",
    "print()\n",
    "print('MAE:', metrics.mean_absolute_error(y_test,y_prediction_svrs))\n",
    "print('MSE:', metrics.mean_squared_error(y_test, y_prediction_svrs))\n",
    "print('RMSE:', np.sqrt(metrics.mean_squared_error(y_test, y_prediction_svrs)))\n",
    "print(\"r2_Score:\",r2_score(y_test, y_prediction_svrs))"
   ]
  },
  {
   "cell_type": "markdown",
   "metadata": {},
   "source": [
    "### 3.C) ADABoost regressor with SVM (kernel = 'rbf')\n",
    "Using the best paramerters from Project 1 SVM Regressor with kernel=rbf as - {'C':10, 'gamma':0.1, 'epsilon':0.5}"
   ]
  },
  {
   "cell_type": "code",
   "execution_count": 45,
   "metadata": {},
   "outputs": [
    {
     "name": "stdout",
     "output_type": "stream",
     "text": [
      "Train score 0.18599628902891463\n",
      "Test score 0.10051066289309485\n",
      "\n",
      "MAE: 53.26939047884818\n",
      "MSE: 12425.253542403314\n",
      "RMSE: 111.46862133534852\n",
      "r2_Score: 0.10051066289309485\n"
     ]
    }
   ],
   "source": [
    "from sklearn.linear_model import LinearRegression\n",
    "from sklearn.svm import SVR\n",
    "from sklearn.ensemble import AdaBoostRegressor\n",
    "from sklearn import metrics\n",
    "from sklearn.metrics import r2_score, mean_squared_error, mean_absolute_error\n",
    "\n",
    "svr3=SVR(kernel='rbf',C= 10, gamma=0.1, epsilon=0.5)\n",
    "adabst=AdaBoostRegressor(svr3,n_estimators=6, random_state=0)\n",
    "adabst.fit(X_train, y_train)\n",
    "\n",
    "confidence = adabst.score(X_test, y_test)\n",
    "c1 =adabst.score(X_train, y_train)\n",
    "y_prediction_svr_rbf=adabst.predict(X_test)\n",
    "\n",
    "print(\"Train score\", c1)\n",
    "print(\"Test score\", confidence)\n",
    "print()\n",
    "print('MAE:', metrics.mean_absolute_error(y_test,y_prediction_svr_rbf))\n",
    "print('MSE:', metrics.mean_squared_error(y_test, y_prediction_svr_rbf))\n",
    "print('RMSE:', np.sqrt(metrics.mean_squared_error(y_test, y_prediction_svr_rbf)))\n",
    "print(\"r2_Score:\",r2_score(y_test, y_prediction_svr_rbf))"
   ]
  },
  {
   "cell_type": "markdown",
   "metadata": {},
   "source": [
    "## 4) Gradient Boosting Regressor"
   ]
  },
  {
   "cell_type": "code",
   "execution_count": 46,
   "metadata": {},
   "outputs": [
    {
     "name": "stdout",
     "output_type": "stream",
     "text": [
      "Train Score: 0.6927553228595416\n",
      "Test Score: 0.30849749189193054\n",
      "\n",
      "MAE: 49.325658193968\n",
      "MSE: 9552.191042181734\n",
      "RMSE: 97.73531113257754\n",
      "r2_Score: 0.30849749189193054\n"
     ]
    }
   ],
   "source": [
    "from sklearn.ensemble import GradientBoostingRegressor\n",
    "\n",
    "gbrt = GradientBoostingRegressor(max_depth=3, n_estimators=10, learning_rate=1.0, random_state=0)\n",
    "gbrt.fit(X_train, y_train)\n",
    "yPrediction_gbr = gbrt.predict(X_test)\n",
    "print(\"Train Score:\",gbrt.score(X_train, y_train))\n",
    "print(\"Test Score:\",gbrt.score(X_test, y_test))\n",
    "print()\n",
    "print('MAE:', metrics.mean_absolute_error(y_test, yPrediction_gbr))\n",
    "print('MSE:', metrics.mean_squared_error(y_test, yPrediction_gbr))\n",
    "print('RMSE:', np.sqrt(metrics.mean_squared_error(y_test, yPrediction_gbr)))\n",
    "print(\"r2_Score:\",r2_score(y_test, yPrediction_gbr))"
   ]
  },
  {
   "cell_type": "markdown",
   "metadata": {},
   "source": [
    "## 5) Regression Using PCA"
   ]
  },
  {
   "cell_type": "code",
   "execution_count": 47,
   "metadata": {},
   "outputs": [],
   "source": [
    "# Applying Standard Scaler\n",
    "from sklearn.preprocessing import StandardScaler\n",
    "\n",
    "sc = StandardScaler()  \n",
    "X_train1 = sc.fit_transform(X_train)  \n",
    "X_test1 = sc.transform(X_test)"
   ]
  },
  {
   "cell_type": "code",
   "execution_count": 48,
   "metadata": {},
   "outputs": [],
   "source": [
    "#Applying PCA on train and test\n",
    "from sklearn.decomposition import PCA\n",
    "\n",
    "pca = PCA(n_components=2)  \n",
    "X_train_pca_reg= pca.fit_transform(X_train1)  \n",
    "X_test_pca_reg = pca.transform(X_test1)"
   ]
  },
  {
   "cell_type": "code",
   "execution_count": 49,
   "metadata": {},
   "outputs": [
    {
     "data": {
      "text/plain": [
       "(931, 2)"
      ]
     },
     "execution_count": 49,
     "metadata": {},
     "output_type": "execute_result"
    }
   ],
   "source": [
    "X_train_pca_reg.shape\n",
    "X_test_pca_reg.shape"
   ]
  },
  {
   "cell_type": "code",
   "execution_count": 50,
   "metadata": {},
   "outputs": [],
   "source": [
    "#Loading Libraries\n",
    "from sklearn import metrics\n",
    "from sklearn.metrics import mean_squared_error, r2_score, mean_absolute_error\n",
    "from math import sqrt\n",
    "from sklearn.model_selection import GridSearchCV\n",
    "from sklearn.model_selection import KFold\n",
    "from sklearn.model_selection import cross_val_score, cross_val_predict\n"
   ]
  },
  {
   "cell_type": "markdown",
   "metadata": {},
   "source": [
    "### 5.A) KNN regressor using PCA"
   ]
  },
  {
   "cell_type": "code",
   "execution_count": 51,
   "metadata": {},
   "outputs": [
    {
     "data": {
      "text/plain": [
       "Text(0, 0.5, 'MSE')"
      ]
     },
     "execution_count": 51,
     "metadata": {},
     "output_type": "execute_result"
    },
    {
     "data": {
      "image/png": "[encoded data removed]",
      "text/plain": [
       "<Figure size 432x288 with 1 Axes>"
      ]
     },
     "metadata": {
      "needs_background": "light"
     },
     "output_type": "display_data"
    }
   ],
   "source": [
    "from sklearn.neighbors import KNeighborsRegressor\n",
    "%matplotlib inline\n",
    "train_score_array = []\n",
    "test_score_array = []\n",
    "\n",
    "for k in range(1,20):\n",
    "    knn_reg = KNeighborsRegressor(k)\n",
    "    knn_reg.fit(X_train_pca_reg, y_train)\n",
    "    train_score_array.append(knn_reg.score(X_train_pca_reg, y_train))\n",
    "    test_score_array.append(knn_reg.score(X_test_pca_reg, y_test))\n",
    "\n",
    "x_axis = range(1,20)\n",
    "plt.plot(x_axis, train_score_array, c = 'g', label = 'Train Score')\n",
    "plt.plot(x_axis, test_score_array, c = 'b', label = 'Test Score')\n",
    "plt.legend()\n",
    "plt.xlabel('k')\n",
    "plt.ylabel('MSE')"
   ]
  },
  {
   "cell_type": "code",
   "execution_count": 52,
   "metadata": {},
   "outputs": [
    {
     "name": "stderr",
     "output_type": "stream",
     "text": [
      "//anaconda3/lib/python3.7/site-packages/sklearn/model_selection/_split.py:1978: FutureWarning: The default value of cv will change from 3 to 5 in version 0.22. Specify it explicitly to silence this warning.\n",
      "  warnings.warn(CV_WARNING, FutureWarning)\n"
     ]
    },
    {
     "data": {
      "text/plain": [
       "{'n_neighbors': 19, 'weights': 'uniform'}"
      ]
     },
     "execution_count": 52,
     "metadata": {},
     "output_type": "execute_result"
    }
   ],
   "source": [
    "# we will now use grid search and cross-validation to get the best parameters\n",
    "from sklearn import neighbors\n",
    "\n",
    "params = {'n_neighbors':range(1,20),'weights': ['distance','uniform']}\n",
    "model = GridSearchCV(knn_reg, params)\n",
    "model.fit(X_train_pca_reg,y_train)\n",
    "model.best_params_"
   ]
  },
  {
   "cell_type": "code",
   "execution_count": 53,
   "metadata": {},
   "outputs": [
    {
     "name": "stdout",
     "output_type": "stream",
     "text": [
      "Train Score: 0.36222255248067126\n",
      "Test Score: 0.23440045033847223\n",
      "\n",
      "MAE: 51.45655492113743\n",
      "MSE: 10575.743506966863\n",
      "r2_Score: 0.23440045033847223\n",
      "RMSE: 102.8384339970561\n"
     ]
    }
   ],
   "source": [
    "#Building a KNN Regressor model using Best Parameters\n",
    "knn_reg1 = KNeighborsRegressor(n_neighbors=19, weights='uniform')\n",
    "knn_reg1.fit(X_train_pca_reg, y_train)\n",
    "\n",
    "print(\"Train Score:\",knn_reg1.score(X_train_pca_reg, y_train))\n",
    "print(\"Test Score:\",knn_reg1.score(X_test_pca_reg, y_test))\n",
    "yPred1_pca_reg = knn_reg1.predict(X_test_pca_reg)\n",
    "print()\n",
    "from sklearn import metrics\n",
    "from sklearn.metrics import r2_score\n",
    "print('MAE:', metrics.mean_absolute_error(y_test, yPred1_pca_reg))\n",
    "print('MSE:', metrics.mean_squared_error(y_test, yPred1_pca_reg))\n",
    "print(\"r2_Score:\",r2_score(y_test, yPred1_pca_reg))\n",
    "print('RMSE:', np.sqrt(metrics.mean_squared_error(y_test, yPred1_pca_reg)))"
   ]
  },
  {
   "cell_type": "code",
   "execution_count": 54,
   "metadata": {},
   "outputs": [
    {
     "name": "stdout",
     "output_type": "stream",
     "text": [
      "Cross-validation training scores (5-fold): [0.4189619  0.16503589 0.2931676  0.41394347 0.30666859]\n",
      "Cross-validation testing scores (5-fold): [0.50558794 0.42431095 0.29990633 0.43386486 0.08522039]\n",
      "Mean cross-validation training score (5-fold): 0.3196\n",
      "Mean cross-validation testing score (5-fold): 0.3498\n",
      "RMSE: 102.8384\n"
     ]
    }
   ],
   "source": [
    "from sklearn import neighbors\n",
    "\n",
    "#Cross validation with the best knn model\n",
    "knr = KNeighborsRegressor(n_neighbors = 19, weights = 'uniform')\n",
    "knr.fit(X_train_pca_reg, y_train)\n",
    "y_pred_knn=knr.predict(X_test_pca_reg)\n",
    "\n",
    "# Cross Validation\n",
    "cv_scores = cross_val_score(knr, X_train, y_train,cv = 5)\n",
    "cv_test_scores = cross_val_score(knr, X_test, y_test,cv = 5)\n",
    "\n",
    "print('Cross-validation training scores (5-fold):', cv_scores)\n",
    "print('Cross-validation testing scores (5-fold):', cv_test_scores)\n",
    "print('Mean cross-validation training score (5-fold): {:.4f}'.format(np.mean(cv_scores)))\n",
    "print('Mean cross-validation testing score (5-fold): {:.4f}'.format(np.mean(cv_test_scores)))\n",
    "print('RMSE: {:.4f}'.format(np.sqrt(mean_squared_error(y_test,y_pred_knn))))"
   ]
  },
  {
   "cell_type": "markdown",
   "metadata": {},
   "source": [
    "### 5.B) Linear regression using PCA"
   ]
  },
  {
   "cell_type": "code",
   "execution_count": 55,
   "metadata": {},
   "outputs": [
    {
     "name": "stdout",
     "output_type": "stream",
     "text": [
      "Train score: 0.253972854264633\n",
      "Test score: 0.21836255007219918\n",
      "\n",
      "MAE: 56.16247220963803\n",
      "MSE: 10797.28585202363\n",
      "r2_Score: 0.21836255007219918\n",
      "RMSE: 103.90998918305992\n"
     ]
    }
   ],
   "source": [
    "from sklearn.linear_model import LinearRegression\n",
    "from sklearn import metrics\n",
    "from sklearn.metrics import r2_score\n",
    "\n",
    "lreg = LinearRegression()\n",
    "lreg.fit(X_train_pca_reg, y_train)\n",
    "yPrediction_pca_reg = lreg.predict(X_test_pca_reg)\n",
    "\n",
    "print('Train score:',lreg.score(X_train_pca_reg, y_train))\n",
    "print('Test score:',lreg.score(X_test_pca_reg, y_test))\n",
    "print(\"\")\n",
    "print('MAE:', metrics.mean_absolute_error(y_test, yPrediction_pca_reg))\n",
    "print('MSE:', metrics.mean_squared_error(y_test, yPrediction_pca_reg))\n",
    "print(\"r2_Score:\",r2_score(y_test, yPrediction_pca_reg))\n",
    "print('RMSE:', np.sqrt(metrics.mean_squared_error(y_test, yPrediction_pca_reg)))"
   ]
  },
  {
   "cell_type": "code",
   "execution_count": 56,
   "metadata": {},
   "outputs": [
    {
     "name": "stdout",
     "output_type": "stream",
     "text": [
      "Cross-validation training scores (5-fold): [0.33414023 0.13432724 0.25662506 0.31021534 0.14672683]\n",
      "Cross-validation testing scores (5-fold): [0.42849645 0.43019151 0.28725525 0.31942411 0.08321368]\n",
      "Mean cross-validation training score (5-fold): 0.2364\n",
      "Mean cross-validation testing score (5-fold): 0.3097\n",
      "RMSE: 103.9100\n"
     ]
    }
   ],
   "source": [
    "# Cross Validation with linear Regression\n",
    "cv_scores = cross_val_score(lreg, X_train_pca_reg, y_train,cv = 5)\n",
    "cv_test_scores = cross_val_score(lreg, X_test_pca_reg, y_test,cv = 5)\n",
    "print('Cross-validation training scores (5-fold):', cv_scores)\n",
    "print('Cross-validation testing scores (5-fold):', cv_test_scores)\n",
    "print('Mean cross-validation training score (5-fold): {:.4f}'.format(np.mean(cv_scores)))\n",
    "print('Mean cross-validation testing score (5-fold): {:.4f}'.format(np.mean(cv_test_scores)))\n",
    "print('RMSE: {:.4f}'.format(np.sqrt(mean_squared_error(y_test,yPrediction_pca_reg))))"
   ]
  },
  {
   "cell_type": "code",
   "execution_count": 57,
   "metadata": {},
   "outputs": [
    {
     "data": {
      "text/plain": [
       "Text(0.5, 0, 'RM')"
      ]
     },
     "execution_count": 57,
     "metadata": {},
     "output_type": "execute_result"
    },
    {
     "data": {
      "image/png": "[encoded data removed]",
      "text/plain": [
       "<Figure size 432x288 with 1 Axes>"
      ]
     },
     "metadata": {
      "needs_background": "light"
     },
     "output_type": "display_data"
    }
   ],
   "source": [
    "%matplotlib inline\n",
    "import matplotlib.pyplot as plt\n",
    "\n",
    "X_train_rm = X_train_pca_reg[:,1].reshape(-1,1)\n",
    "lreg.fit(X_train_rm, y_train)\n",
    "y_predict = lreg.predict(X_train_rm)\n",
    "\n",
    "plt.plot(X_train_rm, y_predict, c = 'r')\n",
    "plt.scatter(X_train_rm,y_train)\n",
    "plt.xlabel('RM')"
   ]
  },
  {
   "cell_type": "markdown",
   "metadata": {},
   "source": [
    "### 5.C) SGD regressor using PCA"
   ]
  },
  {
   "cell_type": "code",
   "execution_count": 58,
   "metadata": {},
   "outputs": [
    {
     "name": "stderr",
     "output_type": "stream",
     "text": [
      "//anaconda3/lib/python3.7/site-packages/sklearn/model_selection/_search.py:813: DeprecationWarning: The default of the `iid` parameter will change from True to False in version 0.22 and will be removed in 0.24. This will change numeric results when test-set sizes are unequal.\n",
      "  DeprecationWarning)\n"
     ]
    },
    {
     "name": "stdout",
     "output_type": "stream",
     "text": [
      "Train score: 0.2671396401484929\n"
     ]
    },
    {
     "name": "stderr",
     "output_type": "stream",
     "text": [
      "//anaconda3/lib/python3.7/site-packages/sklearn/linear_model/stochastic_gradient.py:1185: ConvergenceWarning: Maximum number of iteration reached before convergence. Consider increasing max_iter to improve the fit.\n",
      "  ConvergenceWarning)\n",
      "//anaconda3/lib/python3.7/site-packages/sklearn/linear_model/stochastic_gradient.py:1185: ConvergenceWarning: Maximum number of iteration reached before convergence. Consider increasing max_iter to improve the fit.\n",
      "  ConvergenceWarning)\n",
      "//anaconda3/lib/python3.7/site-packages/sklearn/linear_model/stochastic_gradient.py:1185: ConvergenceWarning: Maximum number of iteration reached before convergence. Consider increasing max_iter to improve the fit.\n",
      "  ConvergenceWarning)\n"
     ]
    },
    {
     "name": "stdout",
     "output_type": "stream",
     "text": [
      "Test score: 0.2813604264346616\n",
      "{'alpha': 0.1, 'learning_rate': 'invscaling', 'loss': 'squared_loss', 'max_iter': 10000, 'penalty': 'l2', 'tol': 0.0001}\n"
     ]
    },
    {
     "name": "stderr",
     "output_type": "stream",
     "text": [
      "//anaconda3/lib/python3.7/site-packages/sklearn/model_selection/_search.py:813: DeprecationWarning: The default of the `iid` parameter will change from True to False in version 0.22 and will be removed in 0.24. This will change numeric results when test-set sizes are unequal.\n",
      "  DeprecationWarning)\n"
     ]
    }
   ],
   "source": [
    "from sklearn.linear_model import SGDRegressor\n",
    "\n",
    "#SGD Model with Grid Search for best parameters\n",
    "sgd = SGDRegressor()\n",
    "param = {\n",
    "    'alpha': 10.0 ** -np.arange(1, 7),\n",
    "    'loss': ['squared_loss', 'huber', 'epsilon_insensitive'],\n",
    "    'penalty': ['l2', 'l1'],\n",
    "    'learning_rate': ['constant', 'optimal', 'invscaling'],\n",
    "    'max_iter':[10000],\n",
    "    'tol': [0.0001]\n",
    "}\n",
    "\n",
    "cl = GridSearchCV(sgd, param, cv=3)\n",
    "cl.fit(X_train_pca_reg, y_train)\n",
    "print(\"Train score: \" + str(cl.best_score_))\n",
    "cl.fit(X_test_pca_reg, y_test)\n",
    "print(\"Test score: \" + str(cl.best_score_))\n",
    "print(cl.best_params_)\n",
    "SGD = cl.best_params_\n",
    "yPredSGD=cl.predict(X_test_pca_reg)"
   ]
  },
  {
   "cell_type": "code",
   "execution_count": 59,
   "metadata": {},
   "outputs": [
    {
     "name": "stdout",
     "output_type": "stream",
     "text": [
      "Train score: 0.229155043323771\n",
      "Test score: 0.13558673997498816\n",
      "\n",
      "MAE: 62.8053151432471\n",
      "MSE: 11940.724006547784\n",
      "r2_Score: 0.13558673997498816\n",
      "RMSE: 109.2736\n"
     ]
    }
   ],
   "source": [
    "from sklearn.linear_model import SGDRegressor\n",
    "\n",
    "#Model with Best Parameters\n",
    "sgd = SGDRegressor(alpha= 0.1, learning_rate= 'invscaling', loss= 'squared_loss', max_iter= 10000, penalty= 'l2', tol= 0.0001)\n",
    "sgd.fit(X_train_pca_reg, y_train)\n",
    "pred_sgd = sgd.predict(X_test_pca_reg)\n",
    "\n",
    "print('Train score: {}'.format(sgd.score(X_train_pca_reg, y_train)))\n",
    "print('Test score: {}'.format(sgd.score(X_test_pca_reg,y_test)))\n",
    "print()\n",
    "from sklearn import metrics\n",
    "from sklearn.metrics import r2_score\n",
    "print('MAE:', metrics.mean_absolute_error(y_test, pred_sgd))\n",
    "print('MSE:', metrics.mean_squared_error(y_test, pred_sgd))\n",
    "print(\"r2_Score:\",r2_score(y_test, pred_sgd))\n",
    "print('RMSE: {:.4f}'.format(np.sqrt(mean_squared_error(y_test,pred_sgd))))"
   ]
  },
  {
   "cell_type": "code",
   "execution_count": 60,
   "metadata": {},
   "outputs": [
    {
     "name": "stdout",
     "output_type": "stream",
     "text": [
      "Cross-validation training scores (5-fold): [0.32870417 0.12243525 0.25188427 0.31762242 0.16494334]\n",
      "Cross-validation testing scores (5-fold): [0.4276447  0.42580887 0.27652294 0.32139276 0.08377587]\n",
      "Mean cross-validation training score (5-fold): 0.2371\n",
      "Mean cross-validation testing score (5-fold): 0.3070\n",
      "RMSE: 109.2736\n"
     ]
    }
   ],
   "source": [
    "# SGD Cross Validation\n",
    "cv_scores = cross_val_score(sgd, X_train_pca_reg, y_train,cv = 5)\n",
    "cv_test_scores = cross_val_score(sgd,X_test_pca_reg, y_test,cv = 5)\n",
    "print('Cross-validation training scores (5-fold):', cv_scores)\n",
    "print('Cross-validation testing scores (5-fold):', cv_test_scores)\n",
    "print('Mean cross-validation training score (5-fold): {:.4f}'.format(np.mean(cv_scores)))\n",
    "print('Mean cross-validation testing score (5-fold): {:.4f}'.format(np.mean(cv_test_scores)))\n",
    "print('RMSE: {:.4f}'.format(np.sqrt(mean_squared_error(y_test,pred_sgd))))"
   ]
  },
  {
   "cell_type": "markdown",
   "metadata": {},
   "source": [
    "### 5.D) Ridge regression with PCA"
   ]
  },
  {
   "cell_type": "code",
   "execution_count": 61,
   "metadata": {},
   "outputs": [],
   "source": [
    "from  sklearn.linear_model import Ridge\n",
    "\n",
    "x_range = [0.01, 0.1, 1, 10, 100]\n",
    "train_score_list = []\n",
    "test_score_list = []\n",
    "\n",
    "for alpha in x_range: \n",
    "    ridge = Ridge(alpha)\n",
    "    ridge.fit(X_train_pca_reg,y_train)\n",
    "    train_score_list.append(ridge.score(X_train_pca_reg,y_train))\n",
    "    test_score_list.append(ridge.score(X_test_pca_reg, y_test))"
   ]
  },
  {
   "cell_type": "code",
   "execution_count": 62,
   "metadata": {},
   "outputs": [
    {
     "name": "stdout",
     "output_type": "stream",
     "text": [
      "[0.2539728542644517, 0.25397285424651295, 0.253972852452908, 0.25397267337388263, 0.2539550433015051]\n",
      "[0.2183626717944288, 0.2183637672615225, 0.218374718668513, 0.21848390682784613, 0.21954367533378216]\n"
     ]
    }
   ],
   "source": [
    "print(train_score_list)\n",
    "print(test_score_list)"
   ]
  },
  {
   "cell_type": "code",
   "execution_count": 63,
   "metadata": {},
   "outputs": [
    {
     "data": {
      "text/plain": [
       "Text(0.5, 0, '$\\\\alpha$')"
      ]
     },
     "execution_count": 63,
     "metadata": {},
     "output_type": "execute_result"
    },
    {
     "data": {
      "image/png": "[encoded data removed]",
      "text/plain": [
       "<Figure size 432x288 with 1 Axes>"
      ]
     },
     "metadata": {
      "needs_background": "light"
     },
     "output_type": "display_data"
    }
   ],
   "source": [
    "%matplotlib inline\n",
    "import matplotlib.pyplot as plt\n",
    "plt.plot(x_range, train_score_list, c = 'g', label = 'Train Score')\n",
    "plt.plot(x_range, test_score_list, c = 'b', label = 'Test Score')\n",
    "plt.xscale('log')\n",
    "plt.legend(loc = 3)\n",
    "plt.xlabel(r'$\\alpha$')"
   ]
  },
  {
   "cell_type": "code",
   "execution_count": 64,
   "metadata": {},
   "outputs": [
    {
     "name": "stdout",
     "output_type": "stream",
     "text": [
      "Best parameters{'alpha': 1000}\n",
      "Best score 0.2383\n"
     ]
    }
   ],
   "source": [
    "# Using GridSearchCV to find the best alpha\n",
    "\n",
    "ridge = Ridge()\n",
    "param_grid = {'alpha':[0.01, 0.1, 1, 10, 100, 1000]}\n",
    "\n",
    "grid_search = GridSearchCV(ridge, param_grid, cv = 5)\n",
    "grid_search.fit(X_train_pca_reg, y_train)\n",
    "\n",
    "#use gridsearch to get the best parameters, alpha=0.001\n",
    "print('Best parameters{}'.format(grid_search.best_params_))\n",
    "print('Best score {:.4f}'.format(grid_search.best_score_))\n",
    "Ridgebest = grid_search.best_params_"
   ]
  },
  {
   "cell_type": "code",
   "execution_count": 65,
   "metadata": {},
   "outputs": [
    {
     "name": "stdout",
     "output_type": "stream",
     "text": [
      "Train score: 0.25243736854098653\n",
      "Test score: 0.22735453385245374\n",
      "\n",
      "MAE: 55.12468387507435\n",
      "MSE: 10673.073508742053\n",
      "r2_Score: 0.22735453385245374\n",
      "RMSE: 103.3106\n"
     ]
    }
   ],
   "source": [
    "from  sklearn.linear_model import Ridge\n",
    "from sklearn.metrics import mean_squared_error \n",
    "from math import sqrt\n",
    "\n",
    "#Model with best parameter\n",
    "ridge = Ridge(alpha = 1000)\n",
    "ridge.fit(X_train_pca_reg,y_train)\n",
    "\n",
    "y_pred_pca_reg=ridge.predict(X_test_pca_reg)\n",
    "\n",
    "print('Train score:',ridge.score(X_train_pca_reg, y_train))\n",
    "print('Test score:',ridge.score(X_test_pca_reg, y_test))\n",
    "print(\"\")\n",
    "print('MAE:', metrics.mean_absolute_error(y_test, y_pred_pca_reg))\n",
    "print('MSE:', metrics.mean_squared_error(y_test, y_pred_pca_reg))\n",
    "print(\"r2_Score:\",r2_score(y_test, y_pred_pca_reg))\n",
    "print('RMSE: {:.4f}'.format(np.sqrt(mean_squared_error(y_test,y_pred_pca_reg))))"
   ]
  },
  {
   "cell_type": "code",
   "execution_count": 66,
   "metadata": {
    "scrolled": false
   },
   "outputs": [
    {
     "name": "stdout",
     "output_type": "stream",
     "text": [
      "Cross-validation training scores (5-fold): [0.33582151 0.15058414 0.24293762 0.29993637 0.16245143]\n",
      "Cross-validation testing scores (5-fold): [0.40498714 0.39342748 0.2633618  0.30163069 0.08081578]\n",
      "Mean cross-validation training score (5-fold): 0.2383\n",
      "Mean cross-validation testing score (5-fold): 0.2888\n",
      "RMSE: 103.3106\n"
     ]
    }
   ],
   "source": [
    "# Cross Validation\n",
    "cv_scores = cross_val_score(ridge, X_train_pca_reg, y_train,cv = 5)\n",
    "cv_test_scores = cross_val_score(ridge, X_test_pca_reg, y_test,cv = 5)\n",
    "print('Cross-validation training scores (5-fold):', cv_scores)\n",
    "print('Cross-validation testing scores (5-fold):', cv_test_scores)\n",
    "print('Mean cross-validation training score (5-fold): {:.4f}'.format(np.mean(cv_scores)))\n",
    "print('Mean cross-validation testing score (5-fold): {:.4f}'.format(np.mean(cv_test_scores)))\n",
    "print('RMSE: {:.4f}'.format(np.sqrt(mean_squared_error(y_test,y_pred_pca_reg))))"
   ]
  },
  {
   "cell_type": "code",
   "execution_count": 67,
   "metadata": {},
   "outputs": [
    {
     "data": {
      "image/png": "[encoded data removed]",
      "text/plain": [
       "<Figure size 576x432 with 1 Axes>"
      ]
     },
     "metadata": {},
     "output_type": "display_data"
    }
   ],
   "source": [
    "#Feature Selection\n",
    "\n",
    "sns.set(rc={'figure.figsize':(8,6)})\n",
    "x_range1 = np.linspace(0.001, 1, 100).reshape(-1,1)\n",
    "x_range2 = np.linspace(1, 10000, 10000).reshape(-1,1)\n",
    "\n",
    "x_range = np.append(x_range1, x_range2)\n",
    "coeff = []\n",
    "\n",
    "for alpha in x_range: \n",
    "    ridge = Ridge(alpha)\n",
    "    ridge.fit(X_train_pca_reg,y_train)\n",
    "    coeff.append(ridge.coef_ )\n",
    "    \n",
    "coeff = np.array(coeff)\n",
    "\n",
    "for i in range(0,2):\n",
    "    plt.plot(x_range, coeff[:,i], label = 'feature {:d}'.format(i))\n",
    "\n",
    "plt.rcParams[\"figure.figsize\"] = (6,4)\n",
    "plt.axhline(y=0, xmin=0.001, xmax=9999, linewidth=1, c ='gray')\n",
    "plt.xlabel(r'$\\alpha$')\n",
    "plt.xscale('log')\n",
    "plt.legend(loc='upper left', bbox_to_anchor=(2, 1.5),\n",
    "          ncol=6, fancybox=True, shadow=True)\n",
    "plt.show()"
   ]
  },
  {
   "cell_type": "markdown",
   "metadata": {},
   "source": [
    "### 5.E) Lasso Regression with PCA"
   ]
  },
  {
   "cell_type": "code",
   "execution_count": 68,
   "metadata": {},
   "outputs": [],
   "source": [
    "from sklearn.linear_model import Lasso\n",
    "x_range = [0.01, 0.1, 1, 10, 100]\n",
    "train_score_list = []\n",
    "test_score_list = []\n",
    "\n",
    "for alpha in x_range: \n",
    "    lasso = Lasso(alpha)\n",
    "    lasso.fit(X_train_pca_reg,y_train)\n",
    "    train_score_list.append(lasso.score(X_train_pca_reg,y_train))\n",
    "    test_score_list.append(lasso.score(X_test_pca_reg, y_test))"
   ]
  },
  {
   "cell_type": "code",
   "execution_count": 69,
   "metadata": {},
   "outputs": [
    {
     "name": "stdout",
     "output_type": "stream",
     "text": [
      "[0.25397285192868624, 0.25397262066995774, 0.2539494947971036, 0.2516369075117064, 0.09219122499742194]\n",
      "[0.2183755443242058, 0.2184921867463967, 0.2196283322271403, 0.22796191291805334, 0.09768486748831005]\n"
     ]
    }
   ],
   "source": [
    "print(train_score_list)\n",
    "print(test_score_list)"
   ]
  },
  {
   "cell_type": "code",
   "execution_count": 70,
   "metadata": {},
   "outputs": [
    {
     "data": {
      "text/plain": [
       "Text(0.5, 0, '$\\\\alpha$')"
      ]
     },
     "execution_count": 70,
     "metadata": {},
     "output_type": "execute_result"
    },
    {
     "data": {
      "image/png": "[encoded data removed]",
      "text/plain": [
       "<Figure size 432x288 with 1 Axes>"
      ]
     },
     "metadata": {},
     "output_type": "display_data"
    }
   ],
   "source": [
    "plt.plot(x_range, train_score_list, c = 'g', label = 'Train Score')\n",
    "plt.plot(x_range, test_score_list, c = 'b', label = 'Test Score')\n",
    "plt.xscale('log')\n",
    "plt.legend(loc = 3)\n",
    "plt.xlabel(r'$\\alpha$')"
   ]
  },
  {
   "cell_type": "code",
   "execution_count": 71,
   "metadata": {},
   "outputs": [
    {
     "data": {
      "image/png": "[encoded data removed]",
      "text/plain": [
       "<Figure size 432x288 with 1 Axes>"
      ]
     },
     "metadata": {
      "needs_background": "light"
     },
     "output_type": "display_data"
    }
   ],
   "source": [
    "%matplotlib inline\n",
    "\n",
    "x_range1 = np.linspace(0.1, 1, 1000).reshape(-1,1)\n",
    "x_range2 = np.linspace(1, 10000, 100000).reshape(-1,1)\n",
    "\n",
    "x_range = np.append(x_range1, x_range2)\n",
    "coeff = []\n",
    "\n",
    "for alpha in x_range: \n",
    "    lasso = Lasso(alpha)\n",
    "    lasso.fit(X_train_pca_reg,y_train)\n",
    "    coeff.append(lasso.coef_ )\n",
    "    \n",
    "coeff = np.array(coeff)\n",
    "\n",
    "for i in range(0,2):\n",
    "    plt.plot(x_range, coeff[:,i], label = 'feature {:d}'.format(i))\n",
    "\n",
    "plt.axhline(y=0, xmin=0.1, xmax=99999, linewidth=1, c ='gray')\n",
    "plt.xlabel(r'$\\alpha$')\n",
    "plt.xscale('log')\n",
    "plt.legend(loc='upper center', bbox_to_anchor=(2, 1.5),\n",
    "          ncol=3, fancybox=True, shadow=True)\n",
    "plt.show()"
   ]
  },
  {
   "cell_type": "code",
   "execution_count": 72,
   "metadata": {},
   "outputs": [
    {
     "name": "stdout",
     "output_type": "stream",
     "text": [
      "Train Score: 0.2516369075117064\n",
      "Test Score : 0.22796191291805334\n",
      "Best_Value_For_Alpha: {'alpha': 10, 'max_iter': 1000000.0}\n"
     ]
    },
    {
     "name": "stderr",
     "output_type": "stream",
     "text": [
      "//anaconda3/lib/python3.7/site-packages/sklearn/model_selection/_split.py:1978: FutureWarning: The default value of cv will change from 3 to 5 in version 0.22. Specify it explicitly to silence this warning.\n",
      "  warnings.warn(CV_WARNING, FutureWarning)\n"
     ]
    }
   ],
   "source": [
    "# Grid Search for Algorithm Tuning\n",
    "from sklearn.linear_model import Lasso\n",
    "from sklearn.model_selection import GridSearchCV\n",
    "\n",
    "# prepare a range of alpha values to test\n",
    "param_grid = {\n",
    "    'alpha': [100,10,2,1,0.5,0.1,0.01,0.001],\n",
    "    'max_iter': [10e5]\n",
    "    \n",
    "}\n",
    "# create and fit a lasso regression model, testing each alpha\n",
    "model = Lasso()\n",
    "grid = GridSearchCV(model,param_grid)\n",
    "grid.fit(X_train_pca_reg, y_train)\n",
    "yPredictions3 =grid.predict(X_test_pca_reg)\n",
    "\n",
    "\n",
    "# summarize the results of the grid search\n",
    "print (\"Train Score:\",grid.score(X_train_pca_reg, y_train))\n",
    "print (\"Test Score :\",grid.score(X_test_pca_reg, y_test))\n",
    "print(\"Best_Value_For_Alpha:\",grid.best_params_)"
   ]
  },
  {
   "cell_type": "code",
   "execution_count": 73,
   "metadata": {
    "scrolled": true
   },
   "outputs": [
    {
     "name": "stdout",
     "output_type": "stream",
     "text": [
      "\n",
      "Train Score: 0.2516369075117064\n",
      "Test Score: 0.22796191291805334\n",
      "\n",
      "MAE: 54.99021306050991\n",
      "MSE: 10664.683371610803\n",
      "RMSE: 103.26995386660538\n",
      "r2_Score: 0.22796191291805334\n"
     ]
    }
   ],
   "source": [
    "from sklearn.model_selection import GridSearchCV\n",
    "\n",
    "#ridge regression model with best parameters\n",
    "grid1 = Lasso(alpha=10, max_iter= 1000000.0)\n",
    "grid1.fit(X_train_pca_reg, y_train)\n",
    "yPred2_pca_reg =grid1.predict(X_test_pca_reg)\n",
    "print(\"\")\n",
    "print(\"Train Score:\",grid1.score(X_train_pca_reg,y_train))\n",
    "print(\"Test Score:\",grid1.score(X_test_pca_reg,y_test))\n",
    "print()\n",
    "from sklearn import metrics\n",
    "from sklearn.metrics import r2_score\n",
    "print('MAE:', metrics.mean_absolute_error(y_test, yPred2_pca_reg))\n",
    "print('MSE:', metrics.mean_squared_error(y_test, yPred2_pca_reg))\n",
    "print('RMSE:', np.sqrt(metrics.mean_squared_error(y_test, yPred2_pca_reg)))\n",
    "print(\"r2_Score:\",r2_score(y_test, yPred2_pca_reg))"
   ]
  },
  {
   "cell_type": "code",
   "execution_count": 74,
   "metadata": {},
   "outputs": [
    {
     "name": "stdout",
     "output_type": "stream",
     "text": [
      "Cross-validation training scores (5-fold): [0.33479016 0.14808145 0.24224039 0.300376   0.16084961]\n",
      "Cross-validation testing scores (5-fold): [0.4283124  0.41730152 0.2807859  0.30870445 0.08317445]\n",
      "Mean cross-validation training score (5-fold): 0.2373\n",
      "Mean cross-validation testing score (5-fold): 0.3037\n",
      "RMSE: 103.2700\n"
     ]
    }
   ],
   "source": [
    "# Cross Validation\n",
    "cv_scores = cross_val_score(grid1, X_train_pca_reg, y_train,cv = 5)\n",
    "cv_test_scores = cross_val_score(grid1, X_test_pca_reg, y_test,cv = 5)\n",
    "print('Cross-validation training scores (5-fold):', cv_scores)\n",
    "print('Cross-validation testing scores (5-fold):', cv_test_scores)\n",
    "print('Mean cross-validation training score (5-fold): {:.4f}'.format(np.mean(cv_scores)))\n",
    "print('Mean cross-validation testing score (5-fold): {:.4f}'.format(np.mean(cv_test_scores)))\n",
    "print('RMSE: {:.4f}'.format(np.sqrt(mean_squared_error(y_test,yPred2_pca_reg))))"
   ]
  },
  {
   "cell_type": "markdown",
   "metadata": {},
   "source": [
    "### 5.F) SVR Linear with PCA"
   ]
  },
  {
   "cell_type": "code",
   "execution_count": 75,
   "metadata": {},
   "outputs": [
    {
     "name": "stdout",
     "output_type": "stream",
     "text": [
      "Train score: 0.16973536384706223\n",
      "Test score: 0.18409655400091873\n"
     ]
    }
   ],
   "source": [
    "# SVR without kernel\n",
    "from sklearn.svm import LinearSVR\n",
    "lsvr = LinearSVR()\n",
    "lsvr.fit(X_train_pca_reg, y_train)\n",
    "y_pred_lsvr=lsvr.predict(X_test_pca_reg)\n",
    "print('Train score: {}'.format(lsvr.score(X_train_pca_reg, y_train)))\n",
    "print('Test score: {}'.format(lsvr.score(X_test_pca_reg,y_test)))"
   ]
  },
  {
   "cell_type": "code",
   "execution_count": 76,
   "metadata": {},
   "outputs": [
    {
     "name": "stdout",
     "output_type": "stream",
     "text": [
      "Best score for data1: 0.2207737668459694\n",
      "Best C: 10\n"
     ]
    },
    {
     "name": "stderr",
     "output_type": "stream",
     "text": [
      "//anaconda3/lib/python3.7/site-packages/sklearn/model_selection/_search.py:813: DeprecationWarning: The default of the `iid` parameter will change from True to False in version 0.22 and will be removed in 0.24. This will change numeric results when test-set sizes are unequal.\n",
      "  DeprecationWarning)\n"
     ]
    }
   ],
   "source": [
    "# Grid search for Linear SVR\n",
    "from sklearn.model_selection import GridSearchCV\n",
    "param_linear = [\n",
    "  {'C': [0.001,0.01,1, 10]}]\n",
    "lsvr = LinearSVR()\n",
    "lsvr_grid = GridSearchCV(estimator=lsvr, param_grid=param_linear, n_jobs=-1,cv=3)\n",
    "lsvr_grid.fit(X_train_pca_reg[:50], y_train[:50])\n",
    "y_pred_lsvr=lsvr_grid.predict(X_test_pca_reg[:50])\n",
    "# View the accuracy score\n",
    "print('Best score for data1:', lsvr_grid.best_score_)\n",
    "# View the best parameters for the model found using grid search\n",
    "print('Best C:',lsvr_grid.best_estimator_.C)"
   ]
  },
  {
   "cell_type": "code",
   "execution_count": 77,
   "metadata": {},
   "outputs": [
    {
     "name": "stdout",
     "output_type": "stream",
     "text": [
      "Train score: 0.1772719870672972\n",
      "Test score: 0.19188490842131423\n",
      "\n",
      "MAE: 48.2687412186524\n",
      "MSE: 11163.039393666828\n",
      "RMSE: 105.65528568730875\n",
      "r2_Score: 0.19188490842131423\n"
     ]
    }
   ],
   "source": [
    "#Run model with best parameters\n",
    "lsvr = LinearSVR(C=10)\n",
    "lsvr.fit(X_train_pca_reg, y_train)\n",
    "y_pred_lsvr=lsvr.predict(X_test_pca_reg)\n",
    "\n",
    "print('Train score: {}'.format(lsvr.score(X_train_pca_reg, y_train)))\n",
    "print('Test score: {}'.format(lsvr.score(X_test_pca_reg,y_test)))\n",
    "print()\n",
    "print('MAE:', metrics.mean_absolute_error(y_test, y_pred_lsvr))\n",
    "print('MSE:', metrics.mean_squared_error(y_test, y_pred_lsvr))\n",
    "print('RMSE:', np.sqrt(metrics.mean_squared_error(y_test, y_pred_lsvr)))\n",
    "print(\"r2_Score:\",r2_score(y_test, y_pred_lsvr))"
   ]
  },
  {
   "cell_type": "code",
   "execution_count": 78,
   "metadata": {},
   "outputs": [
    {
     "name": "stdout",
     "output_type": "stream",
     "text": [
      "Cross-validation training scores (3-fold): [0.29047189 0.13051641 0.17912451]\n",
      "Cross-validation testing scores (3-fold): [0.34844796 0.20996014 0.10342865]\n",
      "Mean cross-validation training score (3-fold): 0.2000\n",
      "Mean cross-validation testing score (3-fold): 0.2206\n",
      "RMSE: 105.6553\n",
      "\n"
     ]
    }
   ],
   "source": [
    "# Cross Validation\n",
    "cv_scores = cross_val_score(lsvr, X_train_pca_reg, y_train,cv = 3)\n",
    "cv_test_scores = cross_val_score(lsvr, X_test_pca_reg, y_test,cv = 3)\n",
    "\n",
    "print('Cross-validation training scores (3-fold):', cv_scores)\n",
    "print('Cross-validation testing scores (3-fold):', cv_test_scores)\n",
    "print('Mean cross-validation training score (3-fold): {:.4f}'.format(np.mean(cv_scores)))\n",
    "print('Mean cross-validation testing score (3-fold): {:.4f}'.format(np.mean(cv_test_scores)))\n",
    "print('RMSE: {:.4f}\\n'.format(np.sqrt(mean_squared_error(y_test,y_pred_lsvr))))"
   ]
  },
  {
   "cell_type": "markdown",
   "metadata": {},
   "source": [
    "### 5.G) SVM Regressor (kernel : linear) with PCA"
   ]
  },
  {
   "cell_type": "code",
   "execution_count": 79,
   "metadata": {},
   "outputs": [
    {
     "name": "stdout",
     "output_type": "stream",
     "text": [
      "Best score for data1: -0.5164342032711999\n",
      "Best C: 10\n",
      "Best Gamma: 0.001\n",
      "Best Epsilon: 0.5\n"
     ]
    },
    {
     "name": "stderr",
     "output_type": "stream",
     "text": [
      "//anaconda3/lib/python3.7/site-packages/sklearn/model_selection/_search.py:813: DeprecationWarning: The default of the `iid` parameter will change from True to False in version 0.22 and will be removed in 0.24. This will change numeric results when test-set sizes are unequal.\n",
      "  DeprecationWarning)\n"
     ]
    }
   ],
   "source": [
    "from sklearn import svm\n",
    "from sklearn.svm import SVR\n",
    "\n",
    "param_linear = [\n",
    "  {'C': [0.001,0.01,1, 10],'gamma': [0.001, 0.01,0.1,1],'epsilon':[0.1,0.2,0.5,0.3]}]\n",
    "\n",
    "clf_linear = GridSearchCV(estimator=svm.SVR(kernel='linear'), param_grid=param_linear, n_jobs=-1,cv=3)\n",
    "clf_linear.fit(X_train_pca_reg[:10], y_train[:10])   \n",
    "\n",
    "# View the accuracy score\n",
    "print('Best score for data1:', clf_linear.best_score_) \n",
    "\n",
    "# View the best parameters for the model found using grid search\n",
    "print('Best C:',clf_linear.best_estimator_.C) \n",
    "#print('Best Kernel:',clf.best_estimator_.kernel)\n",
    "print('Best Gamma:',clf_linear.best_estimator_.gamma)\n",
    "print('Best Epsilon:',clf_linear.best_estimator_.epsilon)\n",
    "Lsvmbest = [clf_linear.best_estimator_]"
   ]
  },
  {
   "cell_type": "code",
   "execution_count": 80,
   "metadata": {},
   "outputs": [
    {
     "name": "stdout",
     "output_type": "stream",
     "text": [
      "Train score: 0.17898051778458768\n",
      "Test score: 0.19354473450586251\n",
      "\n",
      "MAE: 48.26433803999164\n",
      "MSE: 11140.111095257931\n",
      "RMSE: 105.54672470170702\n",
      "r2_Score: 0.19354473450586251\n"
     ]
    }
   ],
   "source": [
    "# SVM kernel-linear with best parameters\n",
    "svrl = SVR(kernel = 'linear', gamma =0.001,C=10,epsilon = 0.5)\n",
    "\n",
    "svrl.fit(X_train_pca_reg, y_train)\n",
    "\n",
    "y_pred_svrl=svrl.predict(X_test_pca_reg)\n",
    "\n",
    "print('Train score: {}'.format(svrl.score(X_train_pca_reg, y_train)))\n",
    "print('Test score: {}'.format(svrl.score(X_test_pca_reg,y_test)))\n",
    "print()\n",
    "from sklearn import metrics\n",
    "from sklearn.metrics import r2_score\n",
    "print('MAE:', metrics.mean_absolute_error(y_test, y_pred_svrl))\n",
    "print('MSE:', metrics.mean_squared_error(y_test, y_pred_svrl))\n",
    "print('RMSE:', np.sqrt(metrics.mean_squared_error(y_test, y_pred_svrl)))\n",
    "print(\"r2_Score:\",r2_score(y_test, y_pred_svrl))"
   ]
  },
  {
   "cell_type": "code",
   "execution_count": 81,
   "metadata": {},
   "outputs": [
    {
     "name": "stdout",
     "output_type": "stream",
     "text": [
      "Cross-validation training scores (5-fold): [0.26824871 0.13606576 0.16167497 0.19291892 0.14113978]\n",
      "Cross-validation testing scores (5-fold): [0.39638365 0.32073209 0.21647959 0.29184755 0.05530139]\n",
      "Mean cross-validation training score (5-fold): 0.1800\n",
      "Mean cross-validation testing score (5-fold): 0.2561\n"
     ]
    }
   ],
   "source": [
    "#Cross Validation\n",
    "cv_scores = cross_val_score(svrl, X_train_pca_reg, y_train,cv = 5)\n",
    "cv_test_scores = cross_val_score(svrl, X_test_pca_reg, y_test,cv = 5)\n",
    "print('Cross-validation training scores (5-fold):', cv_scores)\n",
    "print('Cross-validation testing scores (5-fold):', cv_test_scores)\n",
    "print('Mean cross-validation training score (5-fold): {:.4f}'.format(np.mean(cv_scores)))\n",
    "print('Mean cross-validation testing score (5-fold): {:.4f}'.format(np.mean(cv_test_scores)))"
   ]
  },
  {
   "cell_type": "markdown",
   "metadata": {},
   "source": [
    "### 5.H) SVM Regressor (kernel : poly) with PCA"
   ]
  },
  {
   "cell_type": "code",
   "execution_count": 82,
   "metadata": {},
   "outputs": [
    {
     "name": "stdout",
     "output_type": "stream",
     "text": [
      "Best score for data1: -3.701283522639561\n",
      "Best C: 1\n",
      "Best Gamma: 1\n",
      "Best Epsilon: 0.5\n"
     ]
    },
    {
     "name": "stderr",
     "output_type": "stream",
     "text": [
      "//anaconda3/lib/python3.7/site-packages/sklearn/model_selection/_search.py:813: DeprecationWarning: The default of the `iid` parameter will change from True to False in version 0.22 and will be removed in 0.24. This will change numeric results when test-set sizes are unequal.\n",
      "  DeprecationWarning)\n"
     ]
    }
   ],
   "source": [
    "from sklearn import svm\n",
    "\n",
    "param_poly = [\n",
    "  {'C': [0.001,0.01,1, 10],'gamma': [0.001, 0.01,0.1,1],'epsilon':[0.1,0.2,0.5,0.3]}]\n",
    "\n",
    "clf_poly = GridSearchCV(estimator=svm.SVR(kernel='poly'), param_grid=param_poly, n_jobs=-1,cv=3)\n",
    "clf_poly.fit(X_train_pca_reg[:10], y_train[:10])   \n",
    "\n",
    "# View the accuracy score\n",
    "print('Best score for data1:', clf_poly.best_score_) \n",
    "\n",
    "# View the best parameters for the model found using grid search\n",
    "print('Best C:',clf_poly.best_estimator_.C) \n",
    "print('Best Gamma:',clf_poly.best_estimator_.gamma)\n",
    "print('Best Epsilon:',clf_poly.best_estimator_.epsilon)\n",
    "Psvmbest = [clf_poly.best_estimator_]"
   ]
  },
  {
   "cell_type": "code",
   "execution_count": 83,
   "metadata": {},
   "outputs": [
    {
     "name": "stdout",
     "output_type": "stream",
     "text": [
      "Train score: 0.14868046865102577\n",
      "Test score: 0.12104265539359783\n",
      "\n",
      "MAE: 52.69849453715595\n",
      "MSE: 12141.631266935303\n",
      "RMSE: 110.18907054211549\n",
      "r2_Score: 0.12104265539359782\n"
     ]
    }
   ],
   "source": [
    "from sklearn import svm\n",
    "#Model with best parameters\n",
    "svr2= SVR(kernel = 'poly', gamma =0.1,C=1,epsilon = 0.5)\n",
    "\n",
    "svr2.fit(X_train_pca_reg, y_train)\n",
    "\n",
    "y_pred_svr2=svr2.predict(X_test_pca_reg)\n",
    "\n",
    "print('Train score: {}'.format(svr2.score(X_train_pca_reg, y_train)))\n",
    "print('Test score: {}'.format(svr2.score(X_test_pca_reg,y_test)))\n",
    "print()\n",
    "print('MAE:', metrics.mean_absolute_error(y_test, y_pred_svr2))\n",
    "print('MSE:', metrics.mean_squared_error(y_test, y_pred_svr2))\n",
    "print('RMSE:', np.sqrt(metrics.mean_squared_error(y_test, y_pred_svr2)))\n",
    "print(\"r2_Score:\",r2_score(y_test, y_pred_svr2))"
   ]
  },
  {
   "cell_type": "code",
   "execution_count": 84,
   "metadata": {},
   "outputs": [
    {
     "name": "stdout",
     "output_type": "stream",
     "text": [
      "Cross-validation training scores (5-fold): [0.22930819 0.06606294 0.03601785 0.22136687 0.08469206]\n",
      "Cross-validation testing scores (5-fold): [0.25224338 0.22241522 0.11303459 0.16650455 0.00370132]\n",
      "Mean cross-validation training score (5-fold): 0.1275\n",
      "Mean cross-validation testing score (5-fold): 0.1516\n"
     ]
    }
   ],
   "source": [
    "#Cross Validation\n",
    "cv_scores = cross_val_score(svr2, X_train_pca_reg, y_train,cv = 5)\n",
    "cv_test_scores = cross_val_score(svr2, X_test_pca_reg, y_test,cv = 5)\n",
    "print('Cross-validation training scores (5-fold):', cv_scores)\n",
    "print('Cross-validation testing scores (5-fold):', cv_test_scores)\n",
    "print('Mean cross-validation training score (5-fold): {:.4f}'.format(np.mean(cv_scores)))\n",
    "print('Mean cross-validation testing score (5-fold): {:.4f}'.format(np.mean(cv_test_scores)))"
   ]
  },
  {
   "cell_type": "markdown",
   "metadata": {},
   "source": [
    "### 5.I) SVM Regressor (kernel : rbf) with PCA"
   ]
  },
  {
   "cell_type": "code",
   "execution_count": 85,
   "metadata": {},
   "outputs": [
    {
     "name": "stdout",
     "output_type": "stream",
     "text": [
      "Best score for data1: -3.5314073884542525\n",
      "Best C: 10\n",
      "Best Gamma: 0.1\n",
      "Best Epsilon: 0.1\n"
     ]
    },
    {
     "name": "stderr",
     "output_type": "stream",
     "text": [
      "//anaconda3/lib/python3.7/site-packages/sklearn/model_selection/_search.py:813: DeprecationWarning: The default of the `iid` parameter will change from True to False in version 0.22 and will be removed in 0.24. This will change numeric results when test-set sizes are unequal.\n",
      "  DeprecationWarning)\n"
     ]
    }
   ],
   "source": [
    "from sklearn import svm\n",
    "\n",
    "param_rbf = [\n",
    "  {'C': [0.001,0.01,1, 10],'gamma': [0.001, 0.01,0.1,1],'epsilon':[0.1,0.2,0.5,0.3]}]\n",
    "\n",
    "clf_rbf = GridSearchCV(estimator=svm.SVR(kernel='rbf'), param_grid=param_rbf, n_jobs=-1,cv=3)\n",
    "clf_rbf.fit(X_train_pca_reg[:10], y_train[:10])   \n",
    "\n",
    "# View the accuracy score\n",
    "print('Best score for data1:', clf_rbf.best_score_) \n",
    "\n",
    "# View the best parameters for the model found using grid search\n",
    "print('Best C:',clf_rbf.best_estimator_.C) \n",
    "#print('Best Kernel:',clf.best_estimator_.kernel)\n",
    "print('Best Gamma:',clf_rbf.best_estimator_.gamma)\n",
    "print('Best Epsilon:',clf_rbf.best_estimator_.epsilon)\n",
    "Rbfsvmbest = [clf_rbf.best_estimator_]"
   ]
  },
  {
   "cell_type": "code",
   "execution_count": 86,
   "metadata": {},
   "outputs": [
    {
     "name": "stdout",
     "output_type": "stream",
     "text": [
      "Train score: 0.20978567790123315\n",
      "Test score: 0.27380848480768394\n",
      "\n",
      "MAE: 44.89620413243828\n",
      "MSE: 10031.3737188128\n",
      "RMSE: 100.15674574791655\n",
      "r2_Score: 0.27380848480768394\n"
     ]
    }
   ],
   "source": [
    "from sklearn import svm\n",
    "#Model with best parameters\n",
    "svr3= SVR(kernel = 'rbf', gamma =0.1,C=10,epsilon = 0.1)\n",
    "\n",
    "svr3.fit(X_train_pca_reg, y_train)\n",
    "\n",
    "y_pred_svr3=svr3.predict(X_test_pca_reg)\n",
    "\n",
    "print('Train score: {}'.format(svr3.score(X_train_pca_reg, y_train)))\n",
    "print('Test score: {}'.format(svr3.score(X_test_pca_reg,y_test)))\n",
    "print()\n",
    "from sklearn import metrics\n",
    "from sklearn.metrics import r2_score\n",
    "print('MAE:', metrics.mean_absolute_error(y_test, y_pred_svr3))\n",
    "print('MSE:', metrics.mean_squared_error(y_test, y_pred_svr3))\n",
    "print('RMSE:', np.sqrt(metrics.mean_squared_error(y_test, y_pred_svr3)))\n",
    "print(\"r2_Score:\",r2_score(y_test, y_pred_svr3))"
   ]
  },
  {
   "cell_type": "code",
   "execution_count": 87,
   "metadata": {},
   "outputs": [
    {
     "name": "stdout",
     "output_type": "stream",
     "text": [
      "Mean cross-validation training score (5-fold): 0.2082\n",
      "Mean cross-validation testing score (5-fold): 0.2920\n",
      "Cross-validation training scores (5-fold): [0.32764564 0.17088691 0.14680148 0.22039012 0.17535161]\n",
      "Cross-validation testing scores (5-fold): [0.43576    0.3092773  0.24887088 0.3786728  0.08765672]\n",
      "RMSE: 100.1567\n",
      "\n"
     ]
    }
   ],
   "source": [
    "#Cross Validation\n",
    "cv_scores = cross_val_score(svr3, X_train_pca_reg, y_train,cv = 5)\n",
    "print('Mean cross-validation training score (5-fold): {:.4f}'.format(np.mean(cv_scores)))\n",
    "cv_test_scores = cross_val_score(svr3, X_test_pca_reg, y_test,cv = 5)\n",
    "print('Mean cross-validation testing score (5-fold): {:.4f}'.format(np.mean(cv_test_scores)))\n",
    "print('Cross-validation training scores (5-fold):', cv_scores)\n",
    "print('Cross-validation testing scores (5-fold):', cv_test_scores)\n",
    "print('RMSE: {:.4f}\\n'.format(np.sqrt(mean_squared_error(y_test,y_pred_svr3))))"
   ]
  },
  {
   "cell_type": "markdown",
   "metadata": {},
   "source": [
    "### 5.J) Polynomial Regression using PCA"
   ]
  },
  {
   "cell_type": "code",
   "execution_count": 88,
   "metadata": {},
   "outputs": [
    {
     "name": "stdout",
     "output_type": "stream",
     "text": [
      "{'polynomialfeatures__degree': 2}\n"
     ]
    }
   ],
   "source": [
    "from  sklearn.preprocessing  import PolynomialFeatures\n",
    "from sklearn.pipeline import make_pipeline\n",
    "\n",
    "def PolynomialRegression(degree=2, **kwargs):\n",
    "    return make_pipeline(PolynomialFeatures(degree), LinearRegression(**kwargs))\n",
    "\n",
    "param_grid = {'polynomialfeatures__degree': np.arange(3)}\n",
    "\n",
    "linreg = GridSearchCV(PolynomialRegression(), param_grid, cv=3, scoring='neg_mean_squared_error')\n",
    "\n",
    "linreg.fit(X_train_pca_reg, y_train)\n",
    "linregbest = linreg.best_params_\n",
    "print(linreg.best_params_)"
   ]
  },
  {
   "cell_type": "code",
   "execution_count": 89,
   "metadata": {},
   "outputs": [
    {
     "name": "stdout",
     "output_type": "stream",
     "text": [
      "Train Score: 0.3309941286110195\n",
      "Test Score: 0.2698615643376425\n",
      "\n",
      "MAE: 49.9092193105749\n",
      "MSE: 10085.895196198737\n",
      "RMSE: 100.42855767259996\n",
      "r2_Score: 0.2698615643376425\n"
     ]
    }
   ],
   "source": [
    "poly = PolynomialFeatures(degree=2)\n",
    "X_train_poly = poly.fit_transform(X_train_pca_reg)\n",
    "X_test_poly = poly.transform(X_test_pca_reg)\n",
    "\n",
    "lreg = LinearRegression()\n",
    "lreg.fit(X_train_poly, y_train)\n",
    "train_score_list.append(lreg.score(X_train_poly, y_train))\n",
    "test_score_list.append(lreg.score(X_test_poly, y_test))\n",
    "y_pred_poly = lreg.predict(X_test_poly)\n",
    "\n",
    "print(\"Train Score:\",lreg.score(X_train_poly,y_train))\n",
    "print(\"Test Score:\",lreg.score(X_test_poly,y_test))\n",
    "print()\n",
    "print('MAE:', metrics.mean_absolute_error(y_test, y_pred_poly))\n",
    "print('MSE:', metrics.mean_squared_error(y_test, y_pred_poly))\n",
    "print('RMSE:', np.sqrt(metrics.mean_squared_error(y_test, y_pred_poly)))\n",
    "print(\"r2_Score:\",r2_score(y_test, y_pred_poly))"
   ]
  },
  {
   "cell_type": "code",
   "execution_count": 90,
   "metadata": {},
   "outputs": [
    {
     "name": "stdout",
     "output_type": "stream",
     "text": [
      "Cross-validation training scores (5-fold): [0.41487346 0.152998   0.36398825 0.40482692 0.19744082]\n",
      "Cross-validation testing scores (5-fold): [0.48215314 0.50961872 0.26796351 0.41465513 0.09013119]\n",
      "Mean cross-validation training score (5-fold): 0.3068\n",
      "Mean cross-validation testing score (5-fold): 0.3529\n"
     ]
    }
   ],
   "source": [
    "# Cross Validation\n",
    "\n",
    "cv_scores = cross_val_score(lreg, X_train_poly, y_train,cv = 5)\n",
    "cv_test_scores = cross_val_score(lreg, X_test_poly, y_test,cv = 5)\n",
    "print('Cross-validation training scores (5-fold):', cv_scores)\n",
    "print('Cross-validation testing scores (5-fold):', cv_test_scores)\n",
    "print('Mean cross-validation training score (5-fold): {:.4f}'.format(np.mean(cv_scores)))\n",
    "print('Mean cross-validation testing score (5-fold): {:.4f}'.format(np.mean(cv_test_scores)))"
   ]
  },
  {
   "cell_type": "markdown",
   "metadata": {},
   "source": [
    "## MODEL COMPARISON REPORT\n",
    "We will now compare the scores of all our models to figure out if PCA is beneficial or not."
   ]
  },
  {
   "cell_type": "markdown",
   "metadata": {
    "scrolled": true
   },
   "source": [
    "<img src=\"Regression_without_PCA.png\">\n",
    "<img src=\"Regression_with_PCA.png\">"
   ]
  },
  {
   "cell_type": "markdown",
   "metadata": {},
   "source": [
    "### Conclusion:\n",
    "We can see that there is no improvement in RMSE-score and Train-Test score using PCA for most of the models, thus we need to increase the Components in order to observe improvements in the scores."
   ]
  },
  {
   "cell_type": "markdown",
   "metadata": {},
   "source": [
    "## 6) Deep Learning Models"
   ]
  },
  {
   "cell_type": "markdown",
   "metadata": {},
   "source": [
    "### Data Imputation\n",
    "\n",
    "Now, we check for null values in our datset and try to eliminate them. We replace all the missing values with the mean for each column."
   ]
  },
  {
   "cell_type": "code",
   "execution_count": 92,
   "metadata": {},
   "outputs": [],
   "source": [
    "#Resetting the index to eliminate any infinite values\n",
    "df = df.reset_index()\n",
    "\n",
    "#Defining our dependent and independent variables \n",
    "X = df[['host_response_rate', 'accommodates', 'bathrooms', 'bedrooms', 'beds','Kitchen', 'TV', 'Wireless Internet', \n",
    "        'Air Conditioning', 'Heating','Family/Kid Friendly', 'Washer', 'Dryer', 'Smoke Detector', 'First Aid Kit', \n",
    "        'Safety Card', 'Fire Extinguisher', 'Essentials', 'Shampoo', 'Parking ', 'Pets', 'Indoor Fireplace', \n",
    "        'Carbon Monoxide Detector', 'Breakfast', 'Smoking Allowed', 'Buzzer/Wireless Intercom', 'guests_included',\n",
    "        'minimum_nights', 'maximum_nights', 'number_of_reviews', 'review_scores_rating', 'Reponse_time_within a day or more',\n",
    "        'Reponse_time_within a few hours', 'Reponse_time_within an hour', 'City_Other', 'City_Washington, D.C.', 'Property_Apartment',\n",
    "        'Property_House', 'Property_Other', 'room_Entire home/apt','room_Private room', 'room_Shared room', 'bed_Other', \n",
    "        'bed_Real Bed', 'cancellation_flexible', 'cancellation_moderate', 'cancellation_strict', 'cancellation_super_strict_30']]\n",
    "y = df['Price']"
   ]
  },
  {
   "cell_type": "code",
   "execution_count": 93,
   "metadata": {},
   "outputs": [
    {
     "data": {
      "text/plain": [
       "host_response_rate                   434\n",
       "accommodates                           0\n",
       "bathrooms                             27\n",
       "bedrooms                              21\n",
       "beds                                  11\n",
       "Kitchen                                0\n",
       "TV                                     0\n",
       "Wireless Internet                      0\n",
       "Air Conditioning                       0\n",
       "Heating                                0\n",
       "Family/Kid Friendly                    0\n",
       "Washer                                 0\n",
       "Dryer                                  0\n",
       "Smoke Detector                         0\n",
       "First Aid Kit                          0\n",
       "Safety Card                            0\n",
       "Fire Extinguisher                      0\n",
       "Essentials                             0\n",
       "Shampoo                                0\n",
       "Parking                                0\n",
       "Pets                                   0\n",
       "Indoor Fireplace                       0\n",
       "Carbon Monoxide Detector               0\n",
       "Breakfast                              0\n",
       "Smoking Allowed                        0\n",
       "Buzzer/Wireless Intercom               0\n",
       "guests_included                        0\n",
       "minimum_nights                         0\n",
       "maximum_nights                         0\n",
       "number_of_reviews                      0\n",
       "review_scores_rating                 868\n",
       "Reponse_time_within a day or more      0\n",
       "Reponse_time_within a few hours        0\n",
       "Reponse_time_within an hour            0\n",
       "City_Other                             0\n",
       "City_Washington, D.C.                  0\n",
       "Property_Apartment                     0\n",
       "Property_House                         0\n",
       "Property_Other                         0\n",
       "room_Entire home/apt                   0\n",
       "room_Private room                      0\n",
       "room_Shared room                       0\n",
       "bed_Other                              0\n",
       "bed_Real Bed                           0\n",
       "cancellation_flexible                  0\n",
       "cancellation_moderate                  0\n",
       "cancellation_strict                    0\n",
       "cancellation_super_strict_30           0\n",
       "dtype: int64"
      ]
     },
     "execution_count": 93,
     "metadata": {},
     "output_type": "execute_result"
    }
   ],
   "source": [
    "X.isna().sum()"
   ]
  },
  {
   "cell_type": "code",
   "execution_count": 94,
   "metadata": {
    "scrolled": true
   },
   "outputs": [
    {
     "data": {
      "text/plain": [
       "host_response_rate                   0\n",
       "accommodates                         0\n",
       "bathrooms                            0\n",
       "bedrooms                             0\n",
       "beds                                 0\n",
       "Kitchen                              0\n",
       "TV                                   0\n",
       "Wireless Internet                    0\n",
       "Air Conditioning                     0\n",
       "Heating                              0\n",
       "Family/Kid Friendly                  0\n",
       "Washer                               0\n",
       "Dryer                                0\n",
       "Smoke Detector                       0\n",
       "First Aid Kit                        0\n",
       "Safety Card                          0\n",
       "Fire Extinguisher                    0\n",
       "Essentials                           0\n",
       "Shampoo                              0\n",
       "Parking                              0\n",
       "Pets                                 0\n",
       "Indoor Fireplace                     0\n",
       "Carbon Monoxide Detector             0\n",
       "Breakfast                            0\n",
       "Smoking Allowed                      0\n",
       "Buzzer/Wireless Intercom             0\n",
       "guests_included                      0\n",
       "minimum_nights                       0\n",
       "maximum_nights                       0\n",
       "number_of_reviews                    0\n",
       "review_scores_rating                 0\n",
       "Reponse_time_within a day or more    0\n",
       "Reponse_time_within a few hours      0\n",
       "Reponse_time_within an hour          0\n",
       "City_Other                           0\n",
       "City_Washington, D.C.                0\n",
       "Property_Apartment                   0\n",
       "Property_House                       0\n",
       "Property_Other                       0\n",
       "room_Entire home/apt                 0\n",
       "room_Private room                    0\n",
       "room_Shared room                     0\n",
       "bed_Other                            0\n",
       "bed_Real Bed                         0\n",
       "cancellation_flexible                0\n",
       "cancellation_moderate                0\n",
       "cancellation_strict                  0\n",
       "cancellation_super_strict_30         0\n",
       "dtype: int64"
      ]
     },
     "execution_count": 94,
     "metadata": {},
     "output_type": "execute_result"
    }
   ],
   "source": [
    "X = X.fillna(X.mean()) \n",
    "X.isna().sum()"
   ]
  },
  {
   "cell_type": "markdown",
   "metadata": {},
   "source": [
    "### Split the data\n",
    "\n",
    "Now we will split the data into training and test sets. We will keep 75% of the data to train the model and keep 25% of the data to test the model that we build"
   ]
  },
  {
   "cell_type": "code",
   "execution_count": 95,
   "metadata": {
    "scrolled": true
   },
   "outputs": [
    {
     "name": "stdout",
     "output_type": "stream",
     "text": [
      "X_train unscaled : (2792, 48)\n",
      "X_test unscaled: (931, 48)\n",
      "y_train : (2792,)\n",
      "y_test : (931,)\n"
     ]
    }
   ],
   "source": [
    "#Split the data to train and test sets\n",
    "from sklearn.model_selection import train_test_split\n",
    "\n",
    "X_train_org, X_test_org, y_train, y_test = train_test_split(X, y, random_state = 0, test_size = 0.25)\n",
    "\n",
    "#Check the number of records in training and test partitions\n",
    "print(\"X_train unscaled : \" + str(X_train_org.shape))\n",
    "print(\"X_test unscaled: \" + str(X_test_org.shape))\n",
    "print(\"y_train : \" + str(y_train.shape))\n",
    "print(\"y_test : \" + str(y_test.shape))"
   ]
  },
  {
   "cell_type": "markdown",
   "metadata": {},
   "source": [
    "### Data Scaling"
   ]
  },
  {
   "cell_type": "code",
   "execution_count": 96,
   "metadata": {},
   "outputs": [
    {
     "name": "stdout",
     "output_type": "stream",
     "text": [
      "X_train : (2792, 48)\n",
      "X_test : (931, 48)\n",
      "y_train : (2792,)\n",
      "y_test : (931,)\n"
     ]
    }
   ],
   "source": [
    "#Standardize the training and test sets\n",
    "from sklearn.preprocessing import StandardScaler\n",
    "\n",
    "scaler = StandardScaler()\n",
    "X_train = scaler.fit_transform(X_train_org)\n",
    "X_test = scaler.transform(X_test_org)\n",
    "\n",
    "#Check the number of records in training and test partitions\n",
    "print(\"X_train : \" + str(X_train.shape))\n",
    "print(\"X_test : \" + str(X_test.shape))\n",
    "print(\"y_train : \" + str(y_train.shape))\n",
    "print(\"y_test : \" + str(y_test.shape))"
   ]
  },
  {
   "cell_type": "markdown",
   "metadata": {},
   "source": [
    "### 6.A) Regression Using Neural Network - MLP"
   ]
  },
  {
   "cell_type": "code",
   "execution_count": 98,
   "metadata": {
    "scrolled": true
   },
   "outputs": [
    {
     "name": "stdout",
     "output_type": "stream",
     "text": [
      "Train on 2792 samples\n",
      "Epoch 1/100\n",
      "WARNING:tensorflow:Entity <function Function._initialize_uninitialized_variables.<locals>.initialize_variables at 0x1a2ae6f400> could not be transformed and will be executed as-is. Please report this to the AutoGraph team. When filing the bug, set the verbosity to 10 (on Linux, `export AUTOGRAPH_VERBOSITY=10`) and attach the full output. Cause: module 'gast' has no attribute 'Num'\n",
      "WARNING: Entity <function Function._initialize_uninitialized_variables.<locals>.initialize_variables at 0x1a2ae6f400> could not be transformed and will be executed as-is. Please report this to the AutoGraph team. When filing the bug, set the verbosity to 10 (on Linux, `export AUTOGRAPH_VERBOSITY=10`) and attach the full output. Cause: module 'gast' has no attribute 'Num'\n",
      "2792/2792 [==============================] - 0s 124us/sample - loss: 24019.3831 - mae: 82.1568\n",
      "Epoch 2/100\n",
      "2792/2792 [==============================] - 0s 8us/sample - loss: 20470.1365 - mae: 70.7608\n",
      "Epoch 3/100\n",
      "2792/2792 [==============================] - 0s 8us/sample - loss: 17643.8320 - mae: 61.7506\n",
      "Epoch 4/100\n",
      "2792/2792 [==============================] - 0s 8us/sample - loss: 16690.3092 - mae: 59.8979\n",
      "Epoch 5/100\n",
      "2792/2792 [==============================] - 0s 7us/sample - loss: 16545.9821 - mae: 59.5897\n",
      "Epoch 6/100\n",
      "2792/2792 [==============================] - 0s 8us/sample - loss: 15692.7158 - mae: 57.2125\n",
      "Epoch 7/100\n",
      "2792/2792 [==============================] - 0s 8us/sample - loss: 15897.3845 - mae: 57.6687\n",
      "Epoch 8/100\n",
      "2792/2792 [==============================] - 0s 7us/sample - loss: 15303.9451 - mae: 55.5918\n",
      "Epoch 9/100\n",
      "2792/2792 [==============================] - 0s 7us/sample - loss: 15007.4864 - mae: 54.7039\n",
      "Epoch 10/100\n",
      "2792/2792 [==============================] - 0s 8us/sample - loss: 15330.7986 - mae: 56.3791\n",
      "Epoch 11/100\n",
      "2792/2792 [==============================] - 0s 8us/sample - loss: 15267.1722 - mae: 55.2367\n",
      "Epoch 12/100\n",
      "2792/2792 [==============================] - 0s 7us/sample - loss: 15595.5365 - mae: 58.9156\n",
      "Epoch 13/100\n",
      "2792/2792 [==============================] - 0s 7us/sample - loss: 15583.7742 - mae: 57.4734\n",
      "Epoch 14/100\n",
      "2792/2792 [==============================] - 0s 7us/sample - loss: 14847.3997 - mae: 54.5268\n",
      "Epoch 15/100\n",
      "2792/2792 [==============================] - 0s 7us/sample - loss: 14807.7838 - mae: 54.9874\n",
      "Epoch 16/100\n",
      "2792/2792 [==============================] - 0s 7us/sample - loss: 14539.1193 - mae: 56.5253\n",
      "Epoch 17/100\n",
      "2792/2792 [==============================] - 0s 7us/sample - loss: 14431.8888 - mae: 54.5767\n",
      "Epoch 18/100\n",
      "2792/2792 [==============================] - 0s 8us/sample - loss: 14744.6448 - mae: 55.5201\n",
      "Epoch 19/100\n",
      "2792/2792 [==============================] - 0s 7us/sample - loss: 14779.7348 - mae: 54.7899\n",
      "Epoch 20/100\n",
      "2792/2792 [==============================] - 0s 7us/sample - loss: 15142.5814 - mae: 56.1992\n",
      "Epoch 21/100\n",
      "2792/2792 [==============================] - 0s 7us/sample - loss: 14844.8101 - mae: 55.8664\n",
      "Epoch 22/100\n",
      "2792/2792 [==============================] - 0s 7us/sample - loss: 14682.6479 - mae: 55.3110\n",
      "Epoch 23/100\n",
      "2792/2792 [==============================] - 0s 7us/sample - loss: 15563.9333 - mae: 57.5864\n",
      "Epoch 24/100\n",
      "2792/2792 [==============================] - 0s 7us/sample - loss: 14935.7224 - mae: 55.6694\n",
      "Epoch 25/100\n",
      "2792/2792 [==============================] - 0s 7us/sample - loss: 14482.4219 - mae: 54.9630\n",
      "Epoch 26/100\n",
      "2792/2792 [==============================] - 0s 8us/sample - loss: 15202.2030 - mae: 56.2848\n",
      "Epoch 27/100\n",
      "2792/2792 [==============================] - 0s 7us/sample - loss: 15259.9716 - mae: 56.4882\n",
      "Epoch 28/100\n",
      "2792/2792 [==============================] - 0s 7us/sample - loss: 17464.9811 - mae: 66.1652\n",
      "Epoch 29/100\n",
      "2792/2792 [==============================] - 0s 8us/sample - loss: 15510.0931 - mae: 58.0091\n",
      "Epoch 30/100\n",
      "2792/2792 [==============================] - 0s 7us/sample - loss: 14916.4354 - mae: 55.0304\n",
      "Epoch 31/100\n",
      "2792/2792 [==============================] - 0s 7us/sample - loss: 14999.1117 - mae: 55.2893\n",
      "Epoch 32/100\n",
      "2792/2792 [==============================] - 0s 7us/sample - loss: 14834.4769 - mae: 55.1793\n",
      "Epoch 33/100\n",
      "2792/2792 [==============================] - 0s 7us/sample - loss: 14636.1218 - mae: 54.8627\n",
      "Epoch 34/100\n",
      "2792/2792 [==============================] - 0s 8us/sample - loss: 14842.5568 - mae: 56.8475\n",
      "Epoch 35/100\n",
      "2792/2792 [==============================] - 0s 7us/sample - loss: 14410.0389 - mae: 53.8109\n",
      "Epoch 36/100\n",
      "2792/2792 [==============================] - 0s 7us/sample - loss: 14999.1656 - mae: 57.2686\n",
      "Epoch 37/100\n",
      "2792/2792 [==============================] - 0s 7us/sample - loss: 14822.0206 - mae: 56.3947\n",
      "Epoch 38/100\n",
      "2792/2792 [==============================] - 0s 7us/sample - loss: 14900.9933 - mae: 56.1528\n",
      "Epoch 39/100\n",
      "2792/2792 [==============================] - 0s 7us/sample - loss: 14953.6759 - mae: 56.7441\n",
      "Epoch 40/100\n",
      "2792/2792 [==============================] - 0s 7us/sample - loss: 15383.4860 - mae: 55.7608\n",
      "Epoch 41/100\n",
      "2792/2792 [==============================] - 0s 7us/sample - loss: 15117.9435 - mae: 55.4061\n",
      "Epoch 42/100\n",
      "2792/2792 [==============================] - 0s 8us/sample - loss: 14872.6685 - mae: 54.7155\n",
      "Epoch 43/100\n",
      "2792/2792 [==============================] - 0s 7us/sample - loss: 15124.2325 - mae: 55.7636\n",
      "Epoch 44/100\n",
      "2792/2792 [==============================] - 0s 7us/sample - loss: 14872.5944 - mae: 57.0306\n",
      "Epoch 45/100\n",
      "2792/2792 [==============================] - 0s 7us/sample - loss: 15244.3584 - mae: 57.5452\n",
      "Epoch 46/100\n",
      "2792/2792 [==============================] - 0s 8us/sample - loss: 15393.6032 - mae: 56.0555\n",
      "Epoch 47/100\n",
      "2792/2792 [==============================] - 0s 7us/sample - loss: 15107.6221 - mae: 55.6553\n",
      "Epoch 48/100\n",
      "2792/2792 [==============================] - 0s 7us/sample - loss: 15576.9739 - mae: 56.7914\n",
      "Epoch 49/100\n",
      "2792/2792 [==============================] - 0s 8us/sample - loss: 15046.7421 - mae: 55.0129\n",
      "Epoch 50/100\n",
      "2792/2792 [==============================] - 0s 7us/sample - loss: 14908.2020 - mae: 54.1093\n",
      "Epoch 51/100\n",
      "2792/2792 [==============================] - 0s 7us/sample - loss: 15008.2401 - mae: 54.4699\n",
      "Epoch 52/100\n",
      "2792/2792 [==============================] - 0s 7us/sample - loss: 15134.0765 - mae: 55.9745\n",
      "Epoch 53/100\n",
      "2792/2792 [==============================] - 0s 8us/sample - loss: 14783.5238 - mae: 54.7382\n",
      "Epoch 54/100\n",
      "2792/2792 [==============================] - 0s 7us/sample - loss: 14648.7788 - mae: 54.0592\n",
      "Epoch 55/100\n",
      "2792/2792 [==============================] - 0s 7us/sample - loss: 14254.8273 - mae: 53.8309\n",
      "Epoch 56/100\n",
      "2792/2792 [==============================] - 0s 7us/sample - loss: 14295.7214 - mae: 55.0860\n",
      "Epoch 57/100\n",
      "2792/2792 [==============================] - 0s 8us/sample - loss: 14819.4262 - mae: 55.5076\n",
      "Epoch 58/100\n",
      "2792/2792 [==============================] - 0s 8us/sample - loss: 14617.5985 - mae: 55.0161\n",
      "Epoch 59/100\n",
      "2792/2792 [==============================] - 0s 7us/sample - loss: 14531.1767 - mae: 53.7297\n",
      "Epoch 60/100\n",
      "2792/2792 [==============================] - 0s 7us/sample - loss: 14683.4630 - mae: 54.6804\n",
      "Epoch 61/100\n",
      "2792/2792 [==============================] - 0s 7us/sample - loss: 14533.4453 - mae: 56.4210\n",
      "Epoch 62/100\n",
      "2792/2792 [==============================] - 0s 7us/sample - loss: 15529.9344 - mae: 56.8324\n",
      "Epoch 63/100\n",
      "2792/2792 [==============================] - 0s 7us/sample - loss: 15490.1417 - mae: 55.5513\n",
      "Epoch 64/100\n",
      "2792/2792 [==============================] - 0s 7us/sample - loss: 15485.9091 - mae: 55.9083\n",
      "Epoch 65/100\n",
      "2792/2792 [==============================] - 0s 7us/sample - loss: 15438.7080 - mae: 55.7578\n",
      "Epoch 66/100\n",
      "2792/2792 [==============================] - 0s 8us/sample - loss: 15190.5064 - mae: 55.7053\n",
      "Epoch 67/100\n",
      "2792/2792 [==============================] - 0s 7us/sample - loss: 15459.4560 - mae: 56.6216\n",
      "Epoch 68/100\n",
      "2792/2792 [==============================] - 0s 7us/sample - loss: 15144.7254 - mae: 54.1735\n",
      "Epoch 69/100\n",
      "2792/2792 [==============================] - 0s 7us/sample - loss: 15330.3466 - mae: 55.7033\n",
      "Epoch 70/100\n",
      "2792/2792 [==============================] - 0s 8us/sample - loss: 15389.8390 - mae: 54.7743\n"
     ]
    },
    {
     "name": "stdout",
     "output_type": "stream",
     "text": [
      "Epoch 71/100\n",
      "2792/2792 [==============================] - 0s 8us/sample - loss: 15595.4612 - mae: 54.8312\n",
      "Epoch 72/100\n",
      "2792/2792 [==============================] - 0s 8us/sample - loss: 15629.4304 - mae: 57.2336\n",
      "Epoch 73/100\n",
      "2792/2792 [==============================] - 0s 8us/sample - loss: 15362.2550 - mae: 55.3389\n",
      "Epoch 74/100\n",
      "2792/2792 [==============================] - 0s 8us/sample - loss: 15927.6871 - mae: 57.7867\n",
      "Epoch 75/100\n",
      "2792/2792 [==============================] - 0s 8us/sample - loss: 16484.8165 - mae: 57.3357\n",
      "Epoch 76/100\n",
      "2792/2792 [==============================] - 0s 8us/sample - loss: 16173.1972 - mae: 57.3138\n",
      "Epoch 77/100\n",
      "2792/2792 [==============================] - 0s 7us/sample - loss: 16074.4932 - mae: 56.6724\n",
      "Epoch 78/100\n",
      "2792/2792 [==============================] - 0s 9us/sample - loss: 15846.3579 - mae: 56.2158\n",
      "Epoch 79/100\n",
      "2792/2792 [==============================] - 0s 8us/sample - loss: 15798.8740 - mae: 56.0613\n",
      "Epoch 80/100\n",
      "2792/2792 [==============================] - 0s 7us/sample - loss: 15523.5370 - mae: 55.6377\n",
      "Epoch 81/100\n",
      "2792/2792 [==============================] - 0s 9us/sample - loss: 15575.1233 - mae: 57.1665\n",
      "Epoch 82/100\n",
      "2792/2792 [==============================] - 0s 8us/sample - loss: 15911.7862 - mae: 56.9502\n",
      "Epoch 83/100\n",
      "2792/2792 [==============================] - 0s 8us/sample - loss: 15800.4251 - mae: 58.5901\n",
      "Epoch 84/100\n",
      "2792/2792 [==============================] - 0s 9us/sample - loss: 15759.5656 - mae: 58.8880\n",
      "Epoch 85/100\n",
      "2792/2792 [==============================] - 0s 8us/sample - loss: 15482.5626 - mae: 56.5331\n",
      "Epoch 86/100\n",
      "2792/2792 [==============================] - 0s 8us/sample - loss: 15302.3272 - mae: 55.9077\n",
      "Epoch 87/100\n",
      "2792/2792 [==============================] - 0s 8us/sample - loss: 15639.6164 - mae: 57.8023\n",
      "Epoch 88/100\n",
      "2792/2792 [==============================] - 0s 8us/sample - loss: 15869.4566 - mae: 57.7596\n",
      "Epoch 89/100\n",
      "2792/2792 [==============================] - 0s 8us/sample - loss: 15957.6564 - mae: 57.1228\n",
      "Epoch 90/100\n",
      "2792/2792 [==============================] - 0s 7us/sample - loss: 16665.3331 - mae: 61.0687\n",
      "Epoch 91/100\n",
      "2792/2792 [==============================] - 0s 8us/sample - loss: 16136.7560 - mae: 57.6750\n",
      "Epoch 92/100\n",
      "2792/2792 [==============================] - 0s 8us/sample - loss: 16175.9044 - mae: 58.6589\n",
      "Epoch 93/100\n",
      "2792/2792 [==============================] - 0s 8us/sample - loss: 16357.9570 - mae: 56.2580\n",
      "Epoch 94/100\n",
      "2792/2792 [==============================] - 0s 8us/sample - loss: 16372.2627 - mae: 57.6311\n",
      "Epoch 95/100\n",
      "2792/2792 [==============================] - 0s 8us/sample - loss: 16014.5911 - mae: 56.1899\n",
      "Epoch 96/100\n",
      "2792/2792 [==============================] - 0s 7us/sample - loss: 16548.8737 - mae: 60.7364\n",
      "Epoch 97/100\n",
      "2792/2792 [==============================] - 0s 8us/sample - loss: 16690.1309 - mae: 63.1607\n",
      "Epoch 98/100\n",
      "2792/2792 [==============================] - 0s 7us/sample - loss: 17028.1388 - mae: 64.1495\n",
      "Epoch 99/100\n",
      "2792/2792 [==============================] - 0s 7us/sample - loss: 16931.5723 - mae: 59.1399\n",
      "Epoch 100/100\n",
      "2792/2792 [==============================] - 0s 8us/sample - loss: 16700.7087 - mae: 58.5282\n",
      "Train score:  0.2268858662583284\n",
      "Test score:  0.2394231472975752\n",
      "RMSE: 102.50054440138703\n"
     ]
    }
   ],
   "source": [
    "import numpy as np\n",
    "from tensorflow import keras\n",
    "from tensorflow.keras import Sequential\n",
    "from tensorflow.keras.layers import Dense\n",
    "\n",
    "y_train= np.asarray(y_train) \n",
    "X_train = np.asarray(X_train)\n",
    "y_test = np.asarray(y_test)\n",
    "X_test = np.asarray(X_test)\n",
    "\n",
    "#step 1: build the model\n",
    "model1 = Sequential()\n",
    "\n",
    "#input layer\n",
    "model1.add(Dense(10, input_dim = 48, activation = 'sigmoid'))\n",
    "\n",
    "#hidden layer\n",
    "model1.add(Dense(20, activation = 'sigmoid'))\n",
    "model1.add(Dense(20, activation = 'sigmoid'))\n",
    "\n",
    "#output layer\n",
    "model1.add(Dense(1))\n",
    "\n",
    "#step 2: compile the model\n",
    "model1.compile(loss = 'mean_squared_error', optimizer = 'sgd', metrics = ['mae'])\n",
    "\n",
    "#step 3: train the model\n",
    "model1.fit(X_train, y_train, epochs = 100 , batch_size =128)\n",
    "y_pred_mlp=model1.predict(X_test)\n",
    "y_train_pred = model1.predict(X_train)\n",
    "y_test_pred = model1.predict(X_test1)\n",
    "\n",
    "\n",
    "print('Train score: ', r2_score(y_train, y_train_pred))\n",
    "print('Test score: ', r2_score(y_test, y_test_pred))\n",
    "print('RMSE:', np.sqrt(metrics.mean_squared_error(y_test, y_pred_mlp)))"
   ]
  },
  {
   "cell_type": "markdown",
   "metadata": {},
   "source": [
    "### 6.B) Neural Network - Regression - Perceptron"
   ]
  },
  {
   "cell_type": "code",
   "execution_count": 99,
   "metadata": {},
   "outputs": [
    {
     "name": "stdout",
     "output_type": "stream",
     "text": [
      "Train on 2792 samples\n",
      "Epoch 1/100\n",
      "WARNING:tensorflow:Entity <function Function._initialize_uninitialized_variables.<locals>.initialize_variables at 0x11d18f158> could not be transformed and will be executed as-is. Please report this to the AutoGraph team. When filing the bug, set the verbosity to 10 (on Linux, `export AUTOGRAPH_VERBOSITY=10`) and attach the full output. Cause: module 'gast' has no attribute 'Num'\n",
      "WARNING: Entity <function Function._initialize_uninitialized_variables.<locals>.initialize_variables at 0x11d18f158> could not be transformed and will be executed as-is. Please report this to the AutoGraph team. When filing the bug, set the verbosity to 10 (on Linux, `export AUTOGRAPH_VERBOSITY=10`) and attach the full output. Cause: module 'gast' has no attribute 'Num'\n",
      "2792/2792 [==============================] - 1s 196us/sample - loss: 23805.3537 - mae: 74.0068\n",
      "Epoch 2/100\n",
      "2792/2792 [==============================] - 0s 7us/sample - loss: 17086.3657 - mae: 56.7773\n",
      "Epoch 3/100\n",
      "2792/2792 [==============================] - 0s 7us/sample - loss: 16042.9242 - mae: 56.6656\n",
      "Epoch 4/100\n",
      "2792/2792 [==============================] - 0s 8us/sample - loss: 15618.1785 - mae: 55.4187\n",
      "Epoch 5/100\n",
      "2792/2792 [==============================] - 0s 7us/sample - loss: 15221.5274 - mae: 56.7108\n",
      "Epoch 6/100\n",
      "2792/2792 [==============================] - 0s 7us/sample - loss: 15244.9230 - mae: 55.0929\n",
      "Epoch 7/100\n",
      "2792/2792 [==============================] - 0s 7us/sample - loss: 14852.4897 - mae: 55.6721\n",
      "Epoch 8/100\n",
      "2792/2792 [==============================] - 0s 7us/sample - loss: 14890.4644 - mae: 56.5185\n",
      "Epoch 9/100\n",
      "2792/2792 [==============================] - 0s 7us/sample - loss: 14634.2849 - mae: 56.8324\n",
      "Epoch 10/100\n",
      "2792/2792 [==============================] - 0s 7us/sample - loss: 14540.1266 - mae: 55.0958\n",
      "Epoch 11/100\n",
      "2792/2792 [==============================] - 0s 7us/sample - loss: 14592.4934 - mae: 57.8802\n",
      "Epoch 12/100\n",
      "2792/2792 [==============================] - 0s 7us/sample - loss: 14221.9869 - mae: 56.0780\n",
      "Epoch 13/100\n",
      "2792/2792 [==============================] - 0s 7us/sample - loss: 14184.6878 - mae: 55.4526\n",
      "Epoch 14/100\n",
      "2792/2792 [==============================] - 0s 7us/sample - loss: 14468.9229 - mae: 57.7039\n",
      "Epoch 15/100\n",
      "2792/2792 [==============================] - 0s 7us/sample - loss: 14359.6115 - mae: 56.5607\n",
      "Epoch 16/100\n",
      "2792/2792 [==============================] - 0s 8us/sample - loss: 14291.2523 - mae: 56.9147\n",
      "Epoch 17/100\n",
      "2792/2792 [==============================] - 0s 7us/sample - loss: 14199.3666 - mae: 56.6154\n",
      "Epoch 18/100\n",
      "2792/2792 [==============================] - 0s 7us/sample - loss: 13923.2510 - mae: 54.9296\n",
      "Epoch 19/100\n",
      "2792/2792 [==============================] - 0s 7us/sample - loss: 13791.3434 - mae: 54.2725\n",
      "Epoch 20/100\n",
      "2792/2792 [==============================] - 0s 7us/sample - loss: 13617.7036 - mae: 54.3385\n",
      "Epoch 21/100\n",
      "2792/2792 [==============================] - 0s 7us/sample - loss: 13657.1462 - mae: 54.5764\n",
      "Epoch 22/100\n",
      "2792/2792 [==============================] - 0s 7us/sample - loss: 13383.5805 - mae: 53.6757\n",
      "Epoch 23/100\n",
      "2792/2792 [==============================] - 0s 7us/sample - loss: 13792.2888 - mae: 57.0331\n",
      "Epoch 24/100\n",
      "2792/2792 [==============================] - 0s 7us/sample - loss: 13517.7392 - mae: 54.3985\n",
      "Epoch 25/100\n",
      "2792/2792 [==============================] - 0s 7us/sample - loss: 13397.1759 - mae: 54.5570\n",
      "Epoch 26/100\n",
      "2792/2792 [==============================] - 0s 7us/sample - loss: 13426.0119 - mae: 54.7788\n",
      "Epoch 27/100\n",
      "2792/2792 [==============================] - 0s 7us/sample - loss: 13432.1871 - mae: 54.3766\n",
      "Epoch 28/100\n",
      "2792/2792 [==============================] - 0s 7us/sample - loss: 13143.9630 - mae: 55.2338\n",
      "Epoch 29/100\n",
      "2792/2792 [==============================] - 0s 7us/sample - loss: 13016.4209 - mae: 53.9796\n",
      "Epoch 30/100\n",
      "2792/2792 [==============================] - 0s 8us/sample - loss: 13285.6091 - mae: 54.9170\n",
      "Epoch 31/100\n",
      "2792/2792 [==============================] - 0s 7us/sample - loss: 13417.3633 - mae: 55.2611\n",
      "Epoch 32/100\n",
      "2792/2792 [==============================] - 0s 8us/sample - loss: 13208.6832 - mae: 54.2480\n",
      "Epoch 33/100\n",
      "2792/2792 [==============================] - 0s 8us/sample - loss: 13279.9672 - mae: 55.6185\n",
      "Epoch 34/100\n",
      "2792/2792 [==============================] - 0s 7us/sample - loss: 13790.2337 - mae: 56.4910\n",
      "Epoch 35/100\n",
      "2792/2792 [==============================] - 0s 8us/sample - loss: 13644.4232 - mae: 55.6696\n",
      "Epoch 36/100\n",
      "2792/2792 [==============================] - 0s 7us/sample - loss: 13557.7761 - mae: 55.3856\n",
      "Epoch 37/100\n",
      "2792/2792 [==============================] - 0s 8us/sample - loss: 13574.5325 - mae: 54.9146\n",
      "Epoch 38/100\n",
      "2792/2792 [==============================] - 0s 7us/sample - loss: 13442.1652 - mae: 54.8679\n",
      "Epoch 39/100\n",
      "2792/2792 [==============================] - 0s 8us/sample - loss: 13171.1186 - mae: 54.3368\n",
      "Epoch 40/100\n",
      "2792/2792 [==============================] - 0s 8us/sample - loss: 13128.3266 - mae: 54.4377\n",
      "Epoch 41/100\n",
      "2792/2792 [==============================] - 0s 8us/sample - loss: 12970.2139 - mae: 53.9853\n",
      "Epoch 42/100\n",
      "2792/2792 [==============================] - 0s 8us/sample - loss: 13109.0655 - mae: 54.3882\n",
      "Epoch 43/100\n",
      "2792/2792 [==============================] - 0s 8us/sample - loss: 13210.9724 - mae: 55.1978\n",
      "Epoch 44/100\n",
      "2792/2792 [==============================] - 0s 7us/sample - loss: 12813.5889 - mae: 53.4410\n",
      "Epoch 45/100\n",
      "2792/2792 [==============================] - 0s 7us/sample - loss: 13292.3251 - mae: 54.9048\n",
      "Epoch 46/100\n",
      "2792/2792 [==============================] - 0s 8us/sample - loss: 13311.2242 - mae: 55.1202\n",
      "Epoch 47/100\n",
      "2792/2792 [==============================] - 0s 7us/sample - loss: 13600.4437 - mae: 54.9056\n",
      "Epoch 48/100\n",
      "2792/2792 [==============================] - 0s 8us/sample - loss: 13272.8555 - mae: 54.5190\n",
      "Epoch 49/100\n",
      "2792/2792 [==============================] - 0s 7us/sample - loss: 13144.9987 - mae: 53.7820\n",
      "Epoch 50/100\n",
      "2792/2792 [==============================] - 0s 8us/sample - loss: 13137.5943 - mae: 55.4561\n",
      "Epoch 51/100\n",
      "2792/2792 [==============================] - 0s 8us/sample - loss: 12926.8764 - mae: 54.0936\n",
      "Epoch 52/100\n",
      "2792/2792 [==============================] - 0s 9us/sample - loss: 13048.1229 - mae: 54.3520\n",
      "Epoch 53/100\n",
      "2792/2792 [==============================] - 0s 7us/sample - loss: 12935.5981 - mae: 53.5761\n",
      "Epoch 54/100\n",
      "2792/2792 [==============================] - 0s 8us/sample - loss: 12602.6731 - mae: 52.4250\n",
      "Epoch 55/100\n",
      "2792/2792 [==============================] - 0s 8us/sample - loss: 12709.9493 - mae: 53.0228\n",
      "Epoch 56/100\n",
      "2792/2792 [==============================] - 0s 8us/sample - loss: 12321.3920 - mae: 52.5574\n",
      "Epoch 57/100\n",
      "2792/2792 [==============================] - 0s 8us/sample - loss: 12300.6647 - mae: 51.9692\n",
      "Epoch 58/100\n",
      "2792/2792 [==============================] - 0s 8us/sample - loss: 12303.5273 - mae: 52.1800\n",
      "Epoch 59/100\n",
      "2792/2792 [==============================] - 0s 8us/sample - loss: 12494.7717 - mae: 53.0054\n",
      "Epoch 60/100\n",
      "2792/2792 [==============================] - 0s 8us/sample - loss: 12384.2378 - mae: 52.7780\n",
      "Epoch 61/100\n",
      "2792/2792 [==============================] - 0s 8us/sample - loss: 12091.6923 - mae: 51.7541\n",
      "Epoch 62/100\n",
      "2792/2792 [==============================] - 0s 7us/sample - loss: 12718.3787 - mae: 55.6938\n",
      "Epoch 63/100\n",
      "2792/2792 [==============================] - 0s 9us/sample - loss: 12580.8010 - mae: 54.4205\n",
      "Epoch 64/100\n",
      "2792/2792 [==============================] - 0s 7us/sample - loss: 12449.9519 - mae: 53.3815\n",
      "Epoch 65/100\n",
      "2792/2792 [==============================] - 0s 7us/sample - loss: 12918.4918 - mae: 55.3347\n",
      "Epoch 66/100\n",
      "2792/2792 [==============================] - 0s 8us/sample - loss: 12843.5498 - mae: 55.5284\n",
      "Epoch 67/100\n",
      "2792/2792 [==============================] - 0s 8us/sample - loss: 13244.6508 - mae: 56.9253\n",
      "Epoch 68/100\n",
      "2792/2792 [==============================] - 0s 8us/sample - loss: 13744.0028 - mae: 58.0988\n",
      "Epoch 69/100\n",
      "2792/2792 [==============================] - 0s 7us/sample - loss: 13263.9770 - mae: 55.4890\n",
      "Epoch 70/100\n",
      "2792/2792 [==============================] - 0s 7us/sample - loss: 12997.3780 - mae: 54.7830\n",
      "Epoch 71/100\n"
     ]
    },
    {
     "name": "stdout",
     "output_type": "stream",
     "text": [
      "2792/2792 [==============================] - 0s 7us/sample - loss: 12469.3106 - mae: 52.9297\n",
      "Epoch 72/100\n",
      "2792/2792 [==============================] - 0s 7us/sample - loss: 12472.0388 - mae: 52.9377\n",
      "Epoch 73/100\n",
      "2792/2792 [==============================] - 0s 8us/sample - loss: 12573.6760 - mae: 53.0025\n",
      "Epoch 74/100\n",
      "2792/2792 [==============================] - 0s 7us/sample - loss: 12317.3506 - mae: 52.1471\n",
      "Epoch 75/100\n",
      "2792/2792 [==============================] - 0s 7us/sample - loss: 12536.5087 - mae: 53.4788\n",
      "Epoch 76/100\n",
      "2792/2792 [==============================] - 0s 7us/sample - loss: 12825.0319 - mae: 55.9794\n",
      "Epoch 77/100\n",
      "2792/2792 [==============================] - 0s 7us/sample - loss: 12764.9119 - mae: 54.4882\n",
      "Epoch 78/100\n",
      "2792/2792 [==============================] - 0s 7us/sample - loss: 12575.1870 - mae: 54.8063\n",
      "Epoch 79/100\n",
      "2792/2792 [==============================] - 0s 7us/sample - loss: 12492.1635 - mae: 54.1243\n",
      "Epoch 80/100\n",
      "2792/2792 [==============================] - 0s 7us/sample - loss: 12480.3821 - mae: 53.4939\n",
      "Epoch 81/100\n",
      "2792/2792 [==============================] - 0s 7us/sample - loss: 13011.7759 - mae: 54.2529\n",
      "Epoch 82/100\n",
      "2792/2792 [==============================] - 0s 7us/sample - loss: 12521.5357 - mae: 52.3769\n",
      "Epoch 83/100\n",
      "2792/2792 [==============================] - 0s 7us/sample - loss: 12922.6403 - mae: 55.0111\n",
      "Epoch 84/100\n",
      "2792/2792 [==============================] - 0s 7us/sample - loss: 12646.2910 - mae: 54.1326\n",
      "Epoch 85/100\n",
      "2792/2792 [==============================] - 0s 7us/sample - loss: 13556.4320 - mae: 57.2110\n",
      "Epoch 86/100\n",
      "2792/2792 [==============================] - 0s 7us/sample - loss: 13273.8211 - mae: 55.2177\n",
      "Epoch 87/100\n",
      "2792/2792 [==============================] - 0s 7us/sample - loss: 12771.2142 - mae: 53.7261\n",
      "Epoch 88/100\n",
      "2792/2792 [==============================] - 0s 7us/sample - loss: 12374.0561 - mae: 51.8031\n",
      "Epoch 89/100\n",
      "2792/2792 [==============================] - 0s 7us/sample - loss: 12257.1758 - mae: 50.8112\n",
      "Epoch 90/100\n",
      "2792/2792 [==============================] - 0s 7us/sample - loss: 12509.8088 - mae: 52.5852\n",
      "Epoch 91/100\n",
      "2792/2792 [==============================] - 0s 7us/sample - loss: 11986.7206 - mae: 52.1157\n",
      "Epoch 92/100\n",
      "2792/2792 [==============================] - 0s 7us/sample - loss: 11991.1785 - mae: 51.4599\n",
      "Epoch 93/100\n",
      "2792/2792 [==============================] - 0s 7us/sample - loss: 11994.8484 - mae: 51.7404\n",
      "Epoch 94/100\n",
      "2792/2792 [==============================] - 0s 8us/sample - loss: 12367.8378 - mae: 53.9885\n",
      "Epoch 95/100\n",
      "2792/2792 [==============================] - 0s 7us/sample - loss: 12472.9883 - mae: 52.9731\n",
      "Epoch 96/100\n",
      "2792/2792 [==============================] - 0s 7us/sample - loss: 12178.2663 - mae: 52.4873\n",
      "Epoch 97/100\n",
      "2792/2792 [==============================] - 0s 7us/sample - loss: 12136.4823 - mae: 52.8565\n",
      "Epoch 98/100\n",
      "2792/2792 [==============================] - 0s 7us/sample - loss: 12343.0520 - mae: 52.7907\n",
      "Epoch 99/100\n",
      "2792/2792 [==============================] - 0s 7us/sample - loss: 12352.9578 - mae: 51.8694\n",
      "Epoch 100/100\n",
      "2792/2792 [==============================] - 0s 7us/sample - loss: 12442.1548 - mae: 53.2436\n",
      "Train score:  0.4295020859264256\n",
      "Test score:  0.26842779402477634\n",
      "RMSE: 100.52711491733015\n"
     ]
    }
   ],
   "source": [
    "import numpy as np\n",
    "from tensorflow import keras\n",
    "from tensorflow.keras import Sequential\n",
    "from tensorflow.keras.layers import Dense\n",
    "\n",
    "y_train= np.asarray(y_train) \n",
    "X_train = np.asarray(X_train)\n",
    "y_test = np.asarray(y_test)\n",
    "X_test = np.asarray(X_test)\n",
    "\n",
    "#step 1: build the model\n",
    "model2 = Sequential()\n",
    "#input layer\n",
    "model2.add(Dense(10, input_dim = 48, activation = 'sigmoid'))\n",
    "\n",
    "#hidden layer\n",
    "#output layer\n",
    "model2.add(Dense(1))\n",
    "\n",
    "#step 2: compile the model\n",
    "model2.compile(loss = 'mse', optimizer = 'sgd', metrics = ['mae'])\n",
    "\n",
    "#step 3: train the model\n",
    "model2.fit(X_train, y_train, epochs = 100 , batch_size =120)\n",
    "\n",
    "from sklearn.metrics import r2_score\n",
    "y_train_pred = model2.predict(X_train)\n",
    "y_test_pred = model2.predict(X_test1)\n",
    "y_pred_per=model2.predict(X_test)\n",
    "\n",
    "print('Train score: ', r2_score(y_train, y_train_pred))\n",
    "print('Test score: ', r2_score(y_test, y_test_pred))\n",
    "print('RMSE:', np.sqrt(metrics.mean_squared_error(y_test, y_pred_per)))"
   ]
  },
  {
   "cell_type": "markdown",
   "metadata": {},
   "source": [
    "## ADVANCED REGRESSION MODELS REPORT\n",
    "\n",
    "Now, we will compare the scores for all our advannced models i.e. Ensemble Learning & Deep Learning and evaluate which of the models performing better. We have the best performing models highlighted in the image."
   ]
  },
  {
   "cell_type": "markdown",
   "metadata": {},
   "source": [
    "<img src=\"Regression_Ensemble_DeepLearning_report.png\">"
   ]
  },
  {
   "cell_type": "markdown",
   "metadata": {},
   "source": [
    "From the image above, we can see that the KNN Regressor with Pasting model is performing the best as compared to all the other Ensemble Learning Models. It has a decently high train score, the difference between the train and test scores is fairly low and it also has the least RMSE.\n",
    "\n",
    "We can also see that from among the Deep Learning models, the NN Regressor-MLP  is performing the best, with the least difference between the Train score and test score, also the RSME is considerably low."
   ]
  }
 ],
 "metadata": {
  "kernelspec": {
   "display_name": "Python 3",
   "language": "python",
   "name": "python3"
  },
  "language_info": {
   "codemirror_mode": {
    "name": "ipython",
    "version": 3
   },
   "file_extension": ".py",
   "mimetype": "text/x-python",
   "name": "python",
   "nbconvert_exporter": "python",
   "pygments_lexer": "ipython3",
   "version": "3.7.3"
  }
 },
 "nbformat": 4,
 "nbformat_minor": 2
}
